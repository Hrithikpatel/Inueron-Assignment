{
 "cells": [
  {
   "cell_type": "markdown",
   "id": "4c256845",
   "metadata": {},
   "source": [
    "\n",
    "1. In the below elements which of them are values or an expression? \n",
    "   eg:- values can be integer or string and expressions will be mathematical operators.\n",
    "   \n",
    "   * \n",
    "   'hello'\n",
    "   -87.8\n",
    "   - \n",
    "   / \n",
    "   +\n",
    "   6\n",
    "   \n",
    "\n",
    "\n"
   ]
  },
  {
   "cell_type": "code",
   "execution_count": 3,
   "id": "e5db65f4",
   "metadata": {},
   "outputs": [
    {
     "data": {
      "text/plain": [
       "-81.8"
      ]
     },
     "execution_count": 3,
     "metadata": {},
     "output_type": "execute_result"
    }
   ],
   "source": [
    "x,y,z='hello',-87.8,6 #this are values\n",
    "# * - + / are expression which can be used to perform expression eg:\n",
    "y+z"
   ]
  },
  {
   "cell_type": "markdown",
   "id": "43e8b45f",
   "metadata": {},
   "source": [
    "2. What is the difference between string and variable?\n"
   ]
  },
  {
   "cell_type": "code",
   "execution_count": 5,
   "id": "313db18a",
   "metadata": {},
   "outputs": [],
   "source": [
    "variable stores information while string is a data type which can be stored inside the variables,\n",
    "strings are enclosed within colons"
   ]
  },
  {
   "cell_type": "markdown",
   "id": "391a93d6",
   "metadata": {},
   "source": [
    "\n",
    "3. Describe three different data types.\n"
   ]
  },
  {
   "cell_type": "code",
   "execution_count": null,
   "id": "35945f5c",
   "metadata": {},
   "outputs": [],
   "source": [
    "There are many different data type in pyhton some of them are: \n",
    "Strings\n",
    "List\n",
    "Tuple\n",
    "Dictionary\n",
    "Set"
   ]
  },
  {
   "cell_type": "raw",
   "id": "be5bd7ec",
   "metadata": {},
   "source": []
  },
  {
   "cell_type": "markdown",
   "id": "b641fd0c",
   "metadata": {},
   "source": [
    "4. What is an expression made up of? What do all expressions do?\n"
   ]
  },
  {
   "cell_type": "code",
   "execution_count": null,
   "id": "a8850ac7",
   "metadata": {},
   "outputs": [],
   "source": [
    "Ans:-\n",
    "An expression is a combination of values, variables, operators  .\n",
    "Expressions need to be evaluated. If you ask Python to print an expression  the interpreter evaluates \n",
    "the expression and displaysthe result"
   ]
  },
  {
   "cell_type": "markdown",
   "id": "49f0af74",
   "metadata": {},
   "source": [
    "5. This assignment statements, like spam = 10. What is the difference between an expression and a statement?"
   ]
  },
  {
   "cell_type": "code",
   "execution_count": null,
   "id": "d9e83526",
   "metadata": {},
   "outputs": [],
   "source": [
    "Ans:-In programming language an “expression” is a combination of values and functions that are combined and interpreted \n",
    "by the compiler to create a new value as opposed to a “statement” which is just a standalone unit of execution \n",
    "and doesn't return anything.\n",
    "Here we are just assingning value to the variable named as spam while with the help\n",
    "of operators we can result that into a new value"
   ]
  },
  {
   "cell_type": "code",
   "execution_count": null,
   "id": "a63ed7bd",
   "metadata": {},
   "outputs": [],
   "source": []
  },
  {
   "cell_type": "markdown",
   "id": "e8ac19e2",
   "metadata": {},
   "source": [
    "6. After running the following code, what does the variable bacon contain?\n",
    "bacon = 22\n",
    "bacon + 1\n"
   ]
  },
  {
   "cell_type": "code",
   "execution_count": null,
   "id": "e51f6803",
   "metadata": {},
   "outputs": [],
   "source": [
    "Here the variable bacon will contain 22 \n",
    "as read previously bacon is just a variable which is a container to store any values\n",
    "and we are assingning 22 using an assignment operator to it, then further we are adding 1 by using + operator which will\n",
    "add the 1 to the 22 but we are not storing that to any variable \n"
   ]
  },
  {
   "cell_type": "code",
   "execution_count": 16,
   "id": "8638bac3",
   "metadata": {},
   "outputs": [
    {
     "name": "stdout",
     "output_type": "stream",
     "text": [
      "22\n"
     ]
    }
   ],
   "source": [
    "bacon=22\n",
    "bacon+1\n",
    "print(bacon)"
   ]
  },
  {
   "cell_type": "markdown",
   "id": "50a3b234",
   "metadata": {},
   "source": [
    "7. What should the values of the following two terms be?\n",
    "'spam' + 'spamspam'\n",
    "'spam' * 3\n"
   ]
  },
  {
   "cell_type": "code",
   "execution_count": 18,
   "id": "272ff9cb",
   "metadata": {},
   "outputs": [
    {
     "data": {
      "text/plain": [
       "'spamspamspam'"
      ]
     },
     "execution_count": 18,
     "metadata": {},
     "output_type": "execute_result"
    }
   ],
   "source": [
    "'spam'+'spamspam'"
   ]
  },
  {
   "cell_type": "code",
   "execution_count": 19,
   "id": "d213778e",
   "metadata": {},
   "outputs": [
    {
     "data": {
      "text/plain": [
       "'spamspamspam'"
      ]
     },
     "execution_count": 19,
     "metadata": {},
     "output_type": "execute_result"
    }
   ],
   "source": [
    "'spam'*3"
   ]
  },
  {
   "cell_type": "code",
   "execution_count": null,
   "id": "9c6b4b9f",
   "metadata": {},
   "outputs": [],
   "source": []
  },
  {
   "cell_type": "code",
   "execution_count": null,
   "id": "549366ad",
   "metadata": {},
   "outputs": [],
   "source": [
    "Here we are adding 'spam' with another string 'spamspam' \n",
    "while other we are simply multiplying the word 'spam' which repeats the word 3 times\n"
   ]
  },
  {
   "cell_type": "markdown",
   "id": "ee8a098f",
   "metadata": {},
   "source": [
    "8. Why is eggs a valid variable name while 100 is invalid?\n"
   ]
  },
  {
   "cell_type": "code",
   "execution_count": null,
   "id": "6a492596",
   "metadata": {},
   "outputs": [],
   "source": [
    "Variable names cannot start with a number "
   ]
  },
  {
   "cell_type": "markdown",
   "id": "99267702",
   "metadata": {},
   "source": [
    "9. What three functions can be used to get the integer, floating-point number, or string version of a value?"
   ]
  },
  {
   "cell_type": "code",
   "execution_count": null,
   "id": "bcfecf42",
   "metadata": {},
   "outputs": [],
   "source": [
    "The int(), float(), and str() functions will evaluate to the integer, floating-point and \n",
    "string versions of the value passed to them."
   ]
  },
  {
   "cell_type": "code",
   "execution_count": null,
   "id": "64e8f877",
   "metadata": {},
   "outputs": [],
   "source": []
  },
  {
   "cell_type": "markdown",
   "id": "daedfd2b",
   "metadata": {},
   "source": [
    "10. Why does this expression cause an error? How can you fix it?\n",
    "'I have eaten ' + 99 + ' burritos.'\n"
   ]
  },
  {
   "cell_type": "code",
   "execution_count": null,
   "id": "3c81869b",
   "metadata": {},
   "outputs": [],
   "source": [
    "Strings can be concatenated with a string itself\n",
    "the correct way to do that will be by changing the data type of 99 to string"
   ]
  },
  {
   "cell_type": "code",
   "execution_count": 31,
   "id": "64944982",
   "metadata": {},
   "outputs": [
    {
     "data": {
      "text/plain": [
       "'I have eaten 99 burritos'"
      ]
     },
     "execution_count": 31,
     "metadata": {},
     "output_type": "execute_result"
    }
   ],
   "source": [
    "'I have eaten '+ str(99)+' burritos'"
   ]
  },
  {
   "cell_type": "code",
   "execution_count": null,
   "id": "a5422095",
   "metadata": {},
   "outputs": [],
   "source": []
  }
 ],
 "metadata": {
  "kernelspec": {
   "display_name": "Python 3",
   "language": "python",
   "name": "python3"
  },
  "language_info": {
   "codemirror_mode": {
    "name": "ipython",
    "version": 3
   },
   "file_extension": ".py",
   "mimetype": "text/x-python",
   "name": "python",
   "nbconvert_exporter": "python",
   "pygments_lexer": "ipython3",
   "version": "3.8.8"
  }
 },
 "nbformat": 4,
 "nbformat_minor": 5
}
