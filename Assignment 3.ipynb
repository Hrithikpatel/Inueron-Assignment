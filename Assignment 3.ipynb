{
 "cells": [
  {
   "cell_type": "markdown",
   "id": "428ad2c6",
   "metadata": {},
   "source": [
    "# 1. Why are functions advantageous to have in your programs?"
   ]
  },
  {
   "cell_type": "code",
   "execution_count": null,
   "id": "64c7ce1c",
   "metadata": {},
   "outputs": [],
   "source": [
    "Due to their reusability property fuction can be advantageous to have in your program"
   ]
  },
  {
   "cell_type": "markdown",
   "id": "98f90dea",
   "metadata": {},
   "source": [
    "# 2. When does the code in a function run: when it&#39;s specified or when it&#39;s called?"
   ]
  },
  {
   "cell_type": "code",
   "execution_count": null,
   "id": "683facff",
   "metadata": {},
   "outputs": [],
   "source": [
    "A function is a block of code which only runs when it is called, a function is specified at the very first beginning and called\n",
    "after the execution of the code"
   ]
  },
  {
   "cell_type": "markdown",
   "id": "87d14642",
   "metadata": {},
   "source": [
    "# 3. What statement creates a function?"
   ]
  },
  {
   "cell_type": "code",
   "execution_count": null,
   "id": "17c3cfb3",
   "metadata": {},
   "outputs": [],
   "source": [
    "def keyword creates a statement"
   ]
  },
  {
   "cell_type": "markdown",
   "id": "eaeb2cda",
   "metadata": {},
   "source": [
    "# 4. What is the difference between a function and a function call?\n"
   ]
  },
  {
   "cell_type": "code",
   "execution_count": null,
   "id": "fa23ded7",
   "metadata": {},
   "outputs": [],
   "source": [
    "A function is a code itself and function call means calling a function \n",
    "function doesnt work until and unless we call that particular function"
   ]
  },
  {
   "cell_type": "markdown",
   "id": "aae0f482",
   "metadata": {},
   "source": [
    "# 5. How many global scopes are there in a Python program? How many local scopes?"
   ]
  },
  {
   "cell_type": "code",
   "execution_count": null,
   "id": "2dc22875",
   "metadata": {},
   "outputs": [],
   "source": [
    "There is one global scope as well as one local scope "
   ]
  },
  {
   "cell_type": "markdown",
   "id": "d5576415",
   "metadata": {},
   "source": [
    "# 6. What happens to variables in a local scope when the function call returns?"
   ]
  },
  {
   "cell_type": "code",
   "execution_count": 4,
   "id": "1b7762d6",
   "metadata": {},
   "outputs": [],
   "source": [
    "when the function return the variable in a local scope is destroyed "
   ]
  },
  {
   "cell_type": "markdown",
   "id": "19604ead",
   "metadata": {},
   "source": [
    "# 7. What is the concept of a return value? Is it possible to have a return value in an expression?"
   ]
  },
  {
   "cell_type": "code",
   "execution_count": null,
   "id": "5a85cd65",
   "metadata": {},
   "outputs": [],
   "source": [
    "return is used to end the expresion or statement inside a function, the statement after the return keyword wont be executed "
   ]
  },
  {
   "cell_type": "markdown",
   "id": "75222b63",
   "metadata": {},
   "source": [
    "# 8. If a function does not have a return statement, what is the return value of a call to that function?"
   ]
  },
  {
   "cell_type": "code",
   "execution_count": 7,
   "id": "8b1501dc",
   "metadata": {},
   "outputs": [],
   "source": [
    "if there is no return statement in a function then a function return none"
   ]
  },
  {
   "cell_type": "markdown",
   "id": "90dd6c86",
   "metadata": {},
   "source": [
    "# 9. How do you make a function variable refer to the global variable?"
   ]
  },
  {
   "cell_type": "code",
   "execution_count": 20,
   "id": "7bd13a1b",
   "metadata": {},
   "outputs": [],
   "source": [
    "we can make a function varaible refer to a global varaible by passing the global variable inside the function call as a \n",
    "positional argument"
   ]
  },
  {
   "cell_type": "markdown",
   "id": "6cda3a25",
   "metadata": {},
   "source": [
    "# 10. What is the data type of None?"
   ]
  },
  {
   "cell_type": "code",
   "execution_count": null,
   "id": "0f2aa1f1",
   "metadata": {},
   "outputs": [],
   "source": [
    "The value of data type none is null it is not like empty string or zero but it is the value of class None type "
   ]
  },
  {
   "cell_type": "markdown",
   "id": "d57a922a",
   "metadata": {},
   "source": [
    "# 11. What does the sentence import areallyourpetsnamederic do?"
   ]
  },
  {
   "cell_type": "code",
   "execution_count": null,
   "id": "78165865",
   "metadata": {},
   "outputs": [],
   "source": [
    " the import sentence will import a module name as areallyourpetsnamederic"
   ]
  },
  {
   "cell_type": "markdown",
   "id": "952062c1",
   "metadata": {},
   "source": [
    "# 12. If you had a bacon() feature in a spam module, what would you call it after importing spam?"
   ]
  },
  {
   "cell_type": "code",
   "execution_count": null,
   "id": "507b2041",
   "metadata": {},
   "outputs": [],
   "source": [
    "after importing spam module i will call the bacon function along will spam module eg: spam.bacon() in order to use\n",
    "bacon function "
   ]
  },
  {
   "cell_type": "markdown",
   "id": "0ab6b592",
   "metadata": {},
   "source": [
    "# 13. What can you do to save a programme from crashing if it encounters an error?"
   ]
  },
  {
   "cell_type": "code",
   "execution_count": null,
   "id": "b8a9a1bd",
   "metadata": {},
   "outputs": [],
   "source": [
    "we can handle the error by exception handling through which we can track our program and exit "
   ]
  },
  {
   "cell_type": "markdown",
   "id": "97db8010",
   "metadata": {},
   "source": [
    "# 14. What is the purpose of the try clause? What is the purpose of the except clause?"
   ]
  },
  {
   "cell_type": "code",
   "execution_count": null,
   "id": "e5e46752",
   "metadata": {},
   "outputs": [],
   "source": []
  }
 ],
 "metadata": {
  "kernelspec": {
   "display_name": "Python 3",
   "language": "python",
   "name": "python3"
  },
  "language_info": {
   "codemirror_mode": {
    "name": "ipython",
    "version": 3
   },
   "file_extension": ".py",
   "mimetype": "text/x-python",
   "name": "python",
   "nbconvert_exporter": "python",
   "pygments_lexer": "ipython3",
   "version": "3.8.8"
  }
 },
 "nbformat": 4,
 "nbformat_minor": 5
}
