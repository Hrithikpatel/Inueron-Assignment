{
 "cells": [
  {
   "cell_type": "markdown",
   "id": "1660a5dd",
   "metadata": {},
   "source": [
    "1.What are the two values of the Boolean data type? How do you write them?\n"
   ]
  },
  {
   "cell_type": "raw",
   "id": "0bcb8326",
   "metadata": {},
   "source": [
    "True, False are the two values of boolean Data types"
   ]
  },
  {
   "cell_type": "markdown",
   "id": "6412e1eb",
   "metadata": {},
   "source": [
    "2. What are the three different types of Boolean operators?\n"
   ]
  },
  {
   "cell_type": "raw",
   "id": "6c4f0549",
   "metadata": {},
   "source": [
    "and ,or , not are the three different types of Boolean Operators"
   ]
  },
  {
   "cell_type": "markdown",
   "id": "165c3d6d",
   "metadata": {},
   "source": [
    "3. Make a list of each Boolean operator's truth tables (i.e. every possible combination of Boolean values for the operator and what it evaluate ).\n"
   ]
  },
  {
   "cell_type": "raw",
   "id": "bed54f33",
   "metadata": {},
   "source": [
    "L1=[12,23,34,45,49]\n",
    "\n",
    "12 and 23 in L1 #Returns True if Both are True \n",
    "\n",
    "12 or 30 in L1 #Return True if one is True\n",
    "\n",
    "14 not in L1 #Return True if Fasle\n"
   ]
  },
  {
   "cell_type": "raw",
   "id": "9eddc68a",
   "metadata": {},
   "source": [
    "4. What are the values of the following expressions?\n",
    "(5 > 4) and (3 == 5)\n",
    "not (5 > 4)\n",
    "(5 > 4) or (3 == 5)\n",
    "not ((5 > 4) or (3 == 5))\n",
    "(True and True) and (True == False)\n",
    "(not False) or (not True)\n"
   ]
  },
  {
   "cell_type": "raw",
   "id": "798a9bed",
   "metadata": {},
   "source": [
    "(5>4) and (3==5) --False as only one condition is True \n",
    "not(5>4)   -- Fasle as not returns True if False and False if True\n",
    "(5>4) or (3==5) --- True as first condition is True \n",
    "not((5>4) or (3==5)) -- False as the inner parenthesis returned True but not operator returned  False\n",
    "(True and True) and (True == False) -- False as and operators need both condition to be True \n",
    "(not False) or (not True)  -- True as or operator return True even if one condition is True"
   ]
  },
  {
   "cell_type": "markdown",
   "id": "44748fb2",
   "metadata": {},
   "source": [
    "5. What are the six comparison operators?\n"
   ]
  },
  {
   "cell_type": "raw",
   "id": "60e34937",
   "metadata": {},
   "source": [
    "== equals to\n",
    "!= not equals to\n",
    "> greater than \n",
    "< less than\n",
    ">= greater than equals to\n",
    "<= less than equals to\n"
   ]
  },
  {
   "cell_type": "markdown",
   "id": "9baaf7ea",
   "metadata": {},
   "source": [
    "6. How do you tell the difference between the equal to and assignment operators?Describe a condition and when you would use one.\n"
   ]
  },
  {
   "cell_type": "raw",
   "id": "5c05e841",
   "metadata": {},
   "source": [
    "== equals to is a comparision operator ,whereas \n",
    "= is an assignment operator which assign valuesto the variable\n",
    "\n",
    "eg:\n",
    "    10==12  result into False as its comparing the both\n",
    "    \n",
    "    whereas \n",
    "     a=10  is assigning the value 10 to the variable a\n",
    "        \n",
    "    "
   ]
  },
  {
   "cell_type": "raw",
   "id": "43e32e79",
   "metadata": {},
   "source": [
    "7. Identify the three blocks in this code:\n",
    "spam = 0\n",
    "if spam == 10:\n",
    "    print('eggs')\n",
    "if spam > 5:\n",
    "    print('bacon')\n",
    "else:\n",
    "    print('ham')\n",
    "    print('spam')\n",
    "    print('spam')\n"
   ]
  },
  {
   "cell_type": "raw",
   "id": "7e393954",
   "metadata": {},
   "source": [
    "The three blocks inside the code are if if and else "
   ]
  },
  {
   "cell_type": "markdown",
   "id": "3d71cec2",
   "metadata": {},
   "source": [
    "8. Write code that prints Hello if 1 is stored in spam, prints Howdy if 2 is stored in spam, and prints Greetings! if anything else is stored in spam.\n"
   ]
  },
  {
   "cell_type": "code",
   "execution_count": 65,
   "id": "322ab5d1",
   "metadata": {},
   "outputs": [
    {
     "name": "stdout",
     "output_type": "stream",
     "text": [
      "Enter the number\n"
     ]
    },
    {
     "ename": "ValueError",
     "evalue": "invalid literal for int() with base 10: ''",
     "output_type": "error",
     "traceback": [
      "\u001b[1;31m---------------------------------------------------------------------------\u001b[0m",
      "\u001b[1;31mValueError\u001b[0m                                Traceback (most recent call last)",
      "\u001b[1;32m<ipython-input-65-00ae8975a134>\u001b[0m in \u001b[0;36m<module>\u001b[1;34m\u001b[0m\n\u001b[1;32m----> 1\u001b[1;33m \u001b[0mspam\u001b[0m\u001b[1;33m=\u001b[0m\u001b[0mint\u001b[0m\u001b[1;33m(\u001b[0m\u001b[0minput\u001b[0m\u001b[1;33m(\u001b[0m\u001b[1;34m\"Enter the number\"\u001b[0m\u001b[1;33m)\u001b[0m\u001b[1;33m)\u001b[0m\u001b[1;33m\u001b[0m\u001b[1;33m\u001b[0m\u001b[0m\n\u001b[0m\u001b[0;32m      2\u001b[0m \u001b[1;32mif\u001b[0m \u001b[0mspam\u001b[0m\u001b[1;33m==\u001b[0m\u001b[1;36m1\u001b[0m\u001b[1;33m:\u001b[0m\u001b[1;33m\u001b[0m\u001b[1;33m\u001b[0m\u001b[0m\n\u001b[0;32m      3\u001b[0m     \u001b[0mprint\u001b[0m\u001b[1;33m(\u001b[0m\u001b[1;34m'Hello'\u001b[0m\u001b[1;33m)\u001b[0m\u001b[1;33m\u001b[0m\u001b[1;33m\u001b[0m\u001b[0m\n\u001b[0;32m      4\u001b[0m \u001b[1;32melif\u001b[0m \u001b[0mspam\u001b[0m\u001b[1;33m==\u001b[0m\u001b[1;36m2\u001b[0m\u001b[1;33m:\u001b[0m\u001b[1;33m\u001b[0m\u001b[1;33m\u001b[0m\u001b[0m\n\u001b[0;32m      5\u001b[0m     \u001b[0mprint\u001b[0m\u001b[1;33m(\u001b[0m\u001b[1;34m\"Howdy\"\u001b[0m\u001b[1;33m)\u001b[0m\u001b[1;33m\u001b[0m\u001b[1;33m\u001b[0m\u001b[0m\n",
      "\u001b[1;31mValueError\u001b[0m: invalid literal for int() with base 10: ''"
     ]
    }
   ],
   "source": [
    "spam=int(input(\"Enter the number\"))\n",
    "if spam==1:\n",
    "    print('Hello')\n",
    "elif spam==2:\n",
    "    print(\"Howdy\")\n",
    "else:\n",
    "    print(\"Greeting!\")"
   ]
  },
  {
   "cell_type": "markdown",
   "id": "c44e9afb",
   "metadata": {},
   "source": [
    "9.If your programme is stuck in an endless loop, what keys you’ll press?"
   ]
  },
  {
   "cell_type": "raw",
   "id": "666b9a9e",
   "metadata": {},
   "source": [
    "Clt + C or stop the kernel"
   ]
  },
  {
   "cell_type": "markdown",
   "id": "aa65e751",
   "metadata": {},
   "source": [
    "10. How can you tell the difference between break and continue?\n"
   ]
  },
  {
   "cell_type": "raw",
   "id": "c0331a85",
   "metadata": {},
   "source": [
    "break statement is use to come out of the loop while continue just skip the iteration"
   ]
  },
  {
   "cell_type": "markdown",
   "id": "9241f8cc",
   "metadata": {},
   "source": [
    "11. In a for loop, what is the difference between range(10), range(0, 10), and range(0, 10, 1)?\n"
   ]
  },
  {
   "cell_type": "raw",
   "id": "8d3ea1f2",
   "metadata": {},
   "source": [
    "There is no difference in terms of output but 0 is the starting point while 10 is the end point and 1 is the step size in range function"
   ]
  },
  {
   "cell_type": "markdown",
   "id": "4defbeae",
   "metadata": {},
   "source": [
    "12. Write a short program that prints the numbers 1 to 10 using a for loop. Then write an equivalent program that prints the numbers 1 to 10 using a while loop.\n"
   ]
  },
  {
   "cell_type": "code",
   "execution_count": 66,
   "id": "ebe3e23b",
   "metadata": {},
   "outputs": [
    {
     "name": "stdout",
     "output_type": "stream",
     "text": [
      "1 2 3 4 5 6 7 8 9 10 "
     ]
    }
   ],
   "source": [
    "for i in range(1,11):\n",
    "    print(i,end=' ')"
   ]
  },
  {
   "cell_type": "code",
   "execution_count": 67,
   "id": "44656d91",
   "metadata": {},
   "outputs": [
    {
     "name": "stdout",
     "output_type": "stream",
     "text": [
      "1 2 3 4 5 6 7 8 9 10 "
     ]
    }
   ],
   "source": [
    "i=1\n",
    "while i<=10:\n",
    "    print(i,end=' ')\n",
    "    i+=1"
   ]
  },
  {
   "cell_type": "markdown",
   "id": "1a95d110",
   "metadata": {},
   "source": [
    "13. If you had a function named bacon() inside a module named spam, how would you call it after importing spam?\n"
   ]
  },
  {
   "cell_type": "markdown",
   "id": "17843a28",
   "metadata": {},
   "source": [
    "from spam import bacon"
   ]
  },
  {
   "cell_type": "code",
   "execution_count": null,
   "id": "5260875d",
   "metadata": {},
   "outputs": [],
   "source": []
  },
  {
   "cell_type": "code",
   "execution_count": null,
   "id": "9fda4946",
   "metadata": {},
   "outputs": [],
   "source": []
  },
  {
   "cell_type": "code",
   "execution_count": null,
   "id": "d2e88a0d",
   "metadata": {},
   "outputs": [],
   "source": []
  }
 ],
 "metadata": {
  "kernelspec": {
   "display_name": "Python 3",
   "language": "python",
   "name": "python3"
  },
  "language_info": {
   "codemirror_mode": {
    "name": "ipython",
    "version": 3
   },
   "file_extension": ".py",
   "mimetype": "text/x-python",
   "name": "python",
   "nbconvert_exporter": "python",
   "pygments_lexer": "ipython3",
   "version": "3.8.8"
  }
 },
 "nbformat": 4,
 "nbformat_minor": 5
}
