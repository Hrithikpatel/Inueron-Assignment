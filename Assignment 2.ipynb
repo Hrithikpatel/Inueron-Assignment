{
 "cells": [
  {
   "cell_type": "markdown",
   "id": "3d47ae10",
   "metadata": {},
   "source": [
    "1.What are the two values of the Boolean data type? How do you write them?\n"
   ]
  },
  {
   "cell_type": "raw",
   "id": "288db93f",
   "metadata": {},
   "source": [
    "True, False are the two values of boolean Data types"
   ]
  },
  {
   "cell_type": "markdown",
   "id": "7aed8f59",
   "metadata": {},
   "source": [
    "2. What are the three different types of Boolean operators?\n"
   ]
  },
  {
   "cell_type": "raw",
   "id": "6d17c1c5",
   "metadata": {},
   "source": [
    "and ,or , not are the three different types of Boolean Operators"
   ]
  },
  {
   "cell_type": "markdown",
   "id": "d0e88c48",
   "metadata": {},
   "source": [
    "3. Make a list of each Boolean operator's truth tables (i.e. every possible combination of Boolean values for the operator and what it evaluate ).\n"
   ]
  },
  {
   "cell_type": "raw",
   "id": "9dffe295",
   "metadata": {},
   "source": [
    "L1=[12,23,34,45,49]\n",
    "\n",
    "12 and 23 in L1 #Returns True if Both are True \n",
    "\n",
    "12 or 30 in L1 #Return True if one is True\n",
    "\n",
    "14 not in L1 #Return True if Fasle\n"
   ]
  },
  {
   "cell_type": "raw",
   "id": "58bab1de",
   "metadata": {},
   "source": [
    "4. What are the values of the following expressions?\n",
    "(5 > 4) and (3 == 5)\n",
    "not (5 > 4)\n",
    "(5 > 4) or (3 == 5)\n",
    "not ((5 > 4) or (3 == 5))\n",
    "(True and True) and (True == False)\n",
    "(not False) or (not True)\n"
   ]
  },
  {
   "cell_type": "raw",
   "id": "a0797eff",
   "metadata": {},
   "source": [
    "(5>4) and (3==5) --False as only one condition is True \n",
    "not(5>4)   -- Fasle as not returns True if False and False if True\n",
    "(5>4) or (3==5) --- True as first condition is True \n",
    "not((5>4) or (3==5)) -- False as the inner parenthesis returned True but not operator returned  False\n",
    "(True and True) and (True == False) -- False as and operators need both condition to be True \n",
    "(not False) or (not True)  -- True as or operator return True even if one condition is True"
   ]
  },
  {
   "cell_type": "markdown",
   "id": "92215580",
   "metadata": {},
   "source": [
    "5. What are the six comparison operators?\n"
   ]
  },
  {
   "cell_type": "raw",
   "id": "8a1f3c7d",
   "metadata": {},
   "source": [
    "== equals to\n",
    "!= not equals to\n",
    "> greater than \n",
    "< less than\n",
    ">= greater than equals to\n",
    "<= less than equals to\n"
   ]
  },
  {
   "cell_type": "markdown",
   "id": "a55f7b3b",
   "metadata": {},
   "source": [
    "6. How do you tell the difference between the equal to and assignment operators?Describe a condition and when you would use one.\n"
   ]
  },
  {
   "cell_type": "raw",
   "id": "4a6a67e3",
   "metadata": {},
   "source": [
    "== equals to is a comparision operator ,whereas \n",
    "= is an assignment operator which assign valuesto the variable\n",
    "\n",
    "eg:\n",
    "    10==12  result into False as its comparing the both\n",
    "    \n",
    "    whereas \n",
    "     a=10  is assigning the value 10 to the variable a\n",
    "        \n",
    "    "
   ]
  },
  {
   "cell_type": "raw",
   "id": "3fb22dd2",
   "metadata": {},
   "source": [
    "7. Identify the three blocks in this code:\n",
    "spam = 0\n",
    "if spam == 10:\n",
    "    print('eggs')\n",
    "if spam > 5:\n",
    "    print('bacon')\n",
    "else:\n",
    "    print('ham')\n",
    "    print('spam')\n",
    "    print('spam')\n"
   ]
  },
  {
   "cell_type": "raw",
   "id": "229037c0",
   "metadata": {},
   "source": [
    "The three blocks inside the code are if if and else "
   ]
  },
  {
   "cell_type": "markdown",
   "id": "781abdfd",
   "metadata": {},
   "source": [
    "8. Write code that prints Hello if 1 is stored in spam, prints Howdy if 2 is stored in spam, and prints Greetings! if anything else is stored in spam.\n"
   ]
  },
  {
   "cell_type": "code",
   "execution_count": 35,
   "id": "45fe7577",
   "metadata": {},
   "outputs": [
    {
     "name": "stdout",
     "output_type": "stream",
     "text": [
      "Enter the number3\n",
      "Greeting!\n"
     ]
    }
   ],
   "source": [
    "spam=int(input(\"Enter the number\"))\n",
    "if spam==1:\n",
    "    print('Hello')\n",
    "elif spam==2:\n",
    "    print(\"Howdy\")\n",
    "else:\n",
    "    print(\"Greeting!\")"
   ]
  },
  {
   "cell_type": "markdown",
   "id": "71e0529f",
   "metadata": {},
   "source": [
    "9.If your programme is stuck in an endless loop, what keys you’ll press?"
   ]
  },
  {
   "cell_type": "raw",
   "id": "8087e07d",
   "metadata": {},
   "source": [
    "Clt + C or stop the kernel"
   ]
  },
  {
   "cell_type": "markdown",
   "id": "cd0b98d0",
   "metadata": {},
   "source": [
    "10. How can you tell the difference between break and continue?\n"
   ]
  },
  {
   "cell_type": "raw",
   "id": "bc38a844",
   "metadata": {},
   "source": [
    "break statement is use to come out of the loop while continue just skip the iteration"
   ]
  },
  {
   "cell_type": "markdown",
   "id": "ca5f7896",
   "metadata": {},
   "source": [
    "11. In a for loop, what is the difference between range(10), range(0, 10), and range(0, 10, 1)?\n"
   ]
  },
  {
   "cell_type": "raw",
   "id": "67aa8145",
   "metadata": {},
   "source": [
    "There is no difference in terms of output but 0 is the starting point while 10 is the end point and 1 is the step size in range function"
   ]
  },
  {
   "cell_type": "markdown",
   "id": "9d56119a",
   "metadata": {},
   "source": [
    "12. Write a short program that prints the numbers 1 to 10 using a for loop. Then write an equivalent program that prints the numbers 1 to 10 using a while loop.\n"
   ]
  },
  {
   "cell_type": "code",
   "execution_count": 55,
   "id": "4cf2a95e",
   "metadata": {},
   "outputs": [
    {
     "name": "stdout",
     "output_type": "stream",
     "text": [
      "1 2 3 4 5 6 7 8 9 10 "
     ]
    }
   ],
   "source": [
    "for i in range(1,11):\n",
    "    print(i,end=' ')"
   ]
  },
  {
   "cell_type": "code",
   "execution_count": 59,
   "id": "72adea43",
   "metadata": {},
   "outputs": [
    {
     "name": "stdout",
     "output_type": "stream",
     "text": [
      "1 2 3 4 5 6 7 8 9 10 "
     ]
    }
   ],
   "source": [
    "i=1\n",
    "while i<=10:\n",
    "    print(i,end=' ')\n",
    "    i+=1"
   ]
  },
  {
   "cell_type": "markdown",
   "id": "7d50871b",
   "metadata": {},
   "source": [
    "13. If you had a function named bacon() inside a module named spam, how would you call it after importing spam?\n"
   ]
  },
  {
   "cell_type": "code",
   "execution_count": null,
   "id": "f59c2431",
   "metadata": {},
   "outputs": [],
   "source": [
    "from spam import bacon"
   ]
  },
  {
   "cell_type": "code",
   "execution_count": null,
   "id": "05ee5f02",
   "metadata": {},
   "outputs": [],
   "source": []
  },
  {
   "cell_type": "code",
   "execution_count": null,
   "id": "ff1e254c",
   "metadata": {},
   "outputs": [],
   "source": []
  },
  {
   "cell_type": "code",
   "execution_count": null,
   "id": "4022f552",
   "metadata": {},
   "outputs": [],
   "source": []
  }
 ],
 "metadata": {
  "kernelspec": {
   "display_name": "Python 3",
   "language": "python",
   "name": "python3"
  },
  "language_info": {
   "codemirror_mode": {
    "name": "ipython",
    "version": 3
   },
   "file_extension": ".py",
   "mimetype": "text/x-python",
   "name": "python",
   "nbconvert_exporter": "python",
   "pygments_lexer": "ipython3",
   "version": "3.8.8"
  }
 },
 "nbformat": 4,
 "nbformat_minor": 5
}
