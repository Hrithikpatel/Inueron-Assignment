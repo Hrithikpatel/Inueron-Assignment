{
 "cells": [
  {
   "cell_type": "markdown",
   "id": "dcf971fe",
   "metadata": {},
   "source": [
    "# 1. What does an empty dictionary&#39;s code look like?"
   ]
  },
  {
   "cell_type": "code",
   "execution_count": null,
   "id": "4b31952c",
   "metadata": {},
   "outputs": [],
   "source": [
    "To create an Empty Dictionary we have to assign a variable an set it with just a curly brackets\n",
    "\n",
    "var={}"
   ]
  },
  {
   "cell_type": "markdown",
   "id": "5d559f33",
   "metadata": {},
   "source": [
    "# 2. What is the value of a dictionary value with the key &#39;foo&#39; and the value 42?"
   ]
  },
  {
   "cell_type": "code",
   "execution_count": 2,
   "id": "cd7c06d9",
   "metadata": {},
   "outputs": [
    {
     "data": {
      "text/plain": [
       "42"
      ]
     },
     "execution_count": 2,
     "metadata": {},
     "output_type": "execute_result"
    }
   ],
   "source": [
    "var={'foo':42}\n",
    "var.get('foo')\n",
    "\n",
    "The value of the dictionary is 42"
   ]
  },
  {
   "cell_type": "markdown",
   "id": "01bf0970",
   "metadata": {},
   "source": [
    "# 3. What is the most significant distinction between a dictionary and a list?"
   ]
  },
  {
   "cell_type": "code",
   "execution_count": null,
   "id": "34b1d4cd",
   "metadata": {},
   "outputs": [],
   "source": [
    "In dictionary we can hold data in a key values pair where key cant be duplicate and can be retrived with the help of key name\n",
    "whereas in list we can store our data without any pair \n"
   ]
  },
  {
   "cell_type": "markdown",
   "id": "6d5e19fd",
   "metadata": {},
   "source": [
    "# 4. What happens if you try to access spam[&#39;foo&#39;] if spam is {&#39;bar&#39;: 100}?"
   ]
  },
  {
   "cell_type": "code",
   "execution_count": 6,
   "id": "d12cd124",
   "metadata": {},
   "outputs": [
    {
     "ename": "KeyError",
     "evalue": "'foo'",
     "output_type": "error",
     "traceback": [
      "\u001b[1;31m---------------------------------------------------------------------------\u001b[0m",
      "\u001b[1;31mKeyError\u001b[0m                                  Traceback (most recent call last)",
      "\u001b[1;32m<ipython-input-6-3fa7eee1403a>\u001b[0m in \u001b[0;36m<module>\u001b[1;34m\u001b[0m\n\u001b[0;32m      1\u001b[0m \u001b[0mspam\u001b[0m\u001b[1;33m=\u001b[0m\u001b[1;33m{\u001b[0m\u001b[1;34m'bar'\u001b[0m\u001b[1;33m:\u001b[0m\u001b[1;36m100\u001b[0m\u001b[1;33m}\u001b[0m\u001b[1;33m\u001b[0m\u001b[1;33m\u001b[0m\u001b[0m\n\u001b[1;32m----> 2\u001b[1;33m \u001b[0mspam\u001b[0m\u001b[1;33m[\u001b[0m\u001b[1;34m'foo'\u001b[0m\u001b[1;33m]\u001b[0m\u001b[1;33m\u001b[0m\u001b[1;33m\u001b[0m\u001b[0m\n\u001b[0m",
      "\u001b[1;31mKeyError\u001b[0m: 'foo'"
     ]
    }
   ],
   "source": [
    "spam={'bar':100}\n",
    "spam['foo']\n",
    "\n",
    "dictionary tries to search a key named as foo inside a dictionary which doesnot exist \n",
    "show it throws an error KeyError"
   ]
  },
  {
   "cell_type": "markdown",
   "id": "f9644d81",
   "metadata": {},
   "source": [
    "# 5. If a dictionary is stored in spam, what is the difference between the expressions &#39;cat&#39; in spam and\n",
    "&#39;cat&#39; in spam.keys()?"
   ]
  },
  {
   "cell_type": "code",
   "execution_count": null,
   "id": "506f3589",
   "metadata": {},
   "outputs": [],
   "source": [
    "spam={'cat':'meow','dog':'bow-bow','pet':'cat'}\n",
    "\n",
    "'cat' in spam by default searches for key named as key \n",
    "whereas when we define 'cat' in spam.keys() search 'cat' inside the dictionary same as 'cat' in spam.values() \n",
    "which searches for 'cat' as a value  inside a dictionary "
   ]
  },
  {
   "cell_type": "code",
   "execution_count": null,
   "id": "8797d137",
   "metadata": {},
   "outputs": [],
   "source": []
  },
  {
   "cell_type": "markdown",
   "id": "f39f9c89",
   "metadata": {},
   "source": [
    "# 6. If a dictionary is stored in spam, what is the difference between the expressions &#39;cat&#39; in spam and\n",
    "&#39;cat&#39; in spam.values()?"
   ]
  },
  {
   "cell_type": "code",
   "execution_count": null,
   "id": "aa6b7b2c",
   "metadata": {},
   "outputs": [],
   "source": [
    "spam={'cat':'meow','dog':'bow-bow','pet':'cat'}\n",
    "here for the expression 'cat' in spam.values()\n",
    "will search 'cat' as a value inside the dictionary rather than a key which is by default"
   ]
  },
  {
   "cell_type": "markdown",
   "id": "e4ae6f5a",
   "metadata": {},
   "source": [
    "# 7. What is a shortcut for the following code?\n",
    "if &#39;color&#39; not in spam:\n",
    "spam[&#39;color&#39;] = &#39;black&#39;"
   ]
  },
  {
   "cell_type": "code",
   "execution_count": 19,
   "id": "0fc1410e",
   "metadata": {},
   "outputs": [
    {
     "data": {
      "text/plain": [
       "{'fruit': 'apple', 'pet': 'cat', 'color': 'black'}"
      ]
     },
     "execution_count": 19,
     "metadata": {},
     "output_type": "execute_result"
    }
   ],
   "source": [
    "spam={'fruit':'apple','pet':'cat'}\n",
    "\n",
    "spam.setdefault('color','black')\n",
    "\n",
    "#set defualt searches for a key which is the first argument, if the key is not present inside the dictionary spam \n",
    "#it will insert color key with a value black\n",
    "spam\n"
   ]
  },
  {
   "cell_type": "code",
   "execution_count": null,
   "id": "26d4a5a5",
   "metadata": {},
   "outputs": [],
   "source": []
  },
  {
   "cell_type": "markdown",
   "id": "233770f0",
   "metadata": {},
   "source": [
    "# 8. How do you &quot;pretty print&quot; dictionary values using which module and function"
   ]
  },
  {
   "cell_type": "code",
   "execution_count": 24,
   "id": "a84c8f33",
   "metadata": {},
   "outputs": [
    {
     "name": "stdout",
     "output_type": "stream",
     "text": [
      "{'name': 'Hrithik', 'age': 21, 'city': 'Mumbai'}\n",
      "{'age': 21, 'city': 'Mumbai', 'name': 'Hrithik'}\n"
     ]
    }
   ],
   "source": [
    "#pprint is a Python module that provides the capability to pretty print Python data types to be more readable.\n",
    "import pprint as p\n",
    "var={'name':'Hrithik',\n",
    "    'age':21,\n",
    "    'city':'Mumbai'}\n",
    "print(var)\n",
    "\n",
    "p.pprint(var)"
   ]
  },
  {
   "cell_type": "code",
   "execution_count": null,
   "id": "b76e8b64",
   "metadata": {},
   "outputs": [],
   "source": []
  }
 ],
 "metadata": {
  "kernelspec": {
   "display_name": "Python 3",
   "language": "python",
   "name": "python3"
  },
  "language_info": {
   "codemirror_mode": {
    "name": "ipython",
    "version": 3
   },
   "file_extension": ".py",
   "mimetype": "text/x-python",
   "name": "python",
   "nbconvert_exporter": "python",
   "pygments_lexer": "ipython3",
   "version": "3.8.8"
  }
 },
 "nbformat": 4,
 "nbformat_minor": 5
}
