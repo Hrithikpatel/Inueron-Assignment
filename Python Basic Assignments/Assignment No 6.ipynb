{
 "cells": [
  {
   "cell_type": "markdown",
   "id": "34585cc5",
   "metadata": {},
   "source": [
    "# 1. What are escape characters, and how do you use them?"
   ]
  },
  {
   "cell_type": "code",
   "execution_count": null,
   "id": "8da5a6ee",
   "metadata": {},
   "outputs": [],
   "source": [
    "To enter a character which is illegal in python we use escape character\n",
    "\n",
    "\\n\n",
    "\\t\n",
    "\\r\n",
    " \n",
    "they should be used with the help of \\"
   ]
  },
  {
   "cell_type": "markdown",
   "id": "7f3d6dda",
   "metadata": {},
   "source": [
    "# 2. What do the escape characters n and t stand for?"
   ]
  },
  {
   "cell_type": "code",
   "execution_count": 2,
   "id": "fdb43ae6",
   "metadata": {},
   "outputs": [
    {
     "name": "stdout",
     "output_type": "stream",
     "text": [
      "hello world\n",
      "hello\n",
      "world\n",
      "hello\tworld\n"
     ]
    }
   ],
   "source": [
    "var='hello world'\n",
    "\n",
    "var1='hello\\nworld' #\\n stands for newline \n",
    "\n",
    "var2='hello\\tworld' #\\t stands for tab\n",
    "\n",
    "print(var)\n",
    "\n",
    "print(var1)\n",
    "\n",
    "print(var2)\n",
    "\n"
   ]
  },
  {
   "cell_type": "markdown",
   "id": "7a8e0d45",
   "metadata": {},
   "source": [
    "# 3. What is the way to include backslash characters in a string?"
   ]
  },
  {
   "cell_type": "code",
   "execution_count": 8,
   "id": "91e1f10a",
   "metadata": {},
   "outputs": [],
   "source": [
    "var='hello \\\\nhow are you'\n",
    "we can simply use double backslash \\\\ to escape the \\ character"
   ]
  },
  {
   "cell_type": "markdown",
   "id": "eb07e791",
   "metadata": {},
   "source": [
    "# 4. The string &quot;Howl&#39;s Moving Castle&quot; is a correct value. Why isn&#39;t the single quote character in the\n",
    "word Howl&#39;s not escaped a problem?"
   ]
  },
  {
   "cell_type": "code",
   "execution_count": null,
   "id": "489ee10a",
   "metadata": {},
   "outputs": [],
   "source": [
    "var=\"Howl's Moving Castle\"\n",
    "This is correct way as we have used single quotation inside double quote if we have used double quotes \n",
    "inside the double quotes we had to escape it using backslash\n"
   ]
  },
  {
   "cell_type": "markdown",
   "id": "f20d61f8",
   "metadata": {},
   "source": [
    "# var1=\"Howl\\\"s Moving Castle\"\n",
    "\n",
    "var1\n"
   ]
  },
  {
   "cell_type": "markdown",
   "id": "395e07f6",
   "metadata": {},
   "source": [
    "# 5. How do you write a string of newlines if you don&#39;t want to use the n character?"
   ]
  },
  {
   "cell_type": "code",
   "execution_count": 24,
   "id": "03d4c9be",
   "metadata": {},
   "outputs": [],
   "source": [
    "we can achieve this by using multiple print statent"
   ]
  },
  {
   "cell_type": "markdown",
   "id": "e61bcc32",
   "metadata": {},
   "source": [
    "# 6. What are the values of the given expressions?"
   ]
  },
  {
   "cell_type": "code",
   "execution_count": 28,
   "id": "aaaf42bc",
   "metadata": {},
   "outputs": [
    {
     "data": {
      "text/plain": [
       "('e', 'Hello', 'Hello', 'lo, world!')"
      ]
     },
     "execution_count": 28,
     "metadata": {},
     "output_type": "execute_result"
    }
   ],
   "source": [
    "'Hello, world!'[1]\n",
    "'Hello, world!'[0:5]\n",
    "'Hello, world!'[:5]\n",
    "'Hello, world!'[3:]\n",
    "\n",
    "Here we are slicing the string by defining starting and ending point\n",
    "\n",
    "'Hello, world!'[1],'Hello, world!'[0:5],'Hello, world!'[:5],'Hello, world!'[3:]\n"
   ]
  },
  {
   "cell_type": "code",
   "execution_count": null,
   "id": "eda5144e",
   "metadata": {},
   "outputs": [],
   "source": []
  },
  {
   "cell_type": "markdown",
   "id": "bce8184d",
   "metadata": {},
   "source": [
    "# 6. What are the values of the given expressions"
   ]
  },
  {
   "cell_type": "code",
   "execution_count": null,
   "id": "0a44b559",
   "metadata": {},
   "outputs": [],
   "source": [
    "'Hello'.upper()\n",
    "'Hello'.upper().isupper()\n",
    "'Hello'.upper().lower()\n",
    "\n",
    "The first line will convert the string into uppercase\n",
    "The second line will return True if the string is in upper case\n",
    "The third line will first convert string into uppper case then again into lower case"
   ]
  },
  {
   "cell_type": "code",
   "execution_count": 30,
   "id": "80b24280",
   "metadata": {},
   "outputs": [
    {
     "data": {
      "text/plain": [
       "('HELLO', True, 'hello')"
      ]
     },
     "execution_count": 30,
     "metadata": {},
     "output_type": "execute_result"
    }
   ],
   "source": [
    "'Hello'.upper(),'Hello'.upper().isupper(),'Hello'.upper().lower()"
   ]
  },
  {
   "cell_type": "markdown",
   "id": "f9a23fc5",
   "metadata": {},
   "source": [
    "# 8. What are the values of the following expressions?\n",
    "&#39;Remember, remember, the fifth of July.&#39;.split()\n",
    "&#39;-&#39;.join(&#39;There can only one.&#39;.split())"
   ]
  },
  {
   "cell_type": "code",
   "execution_count": 31,
   "id": "2f2672aa",
   "metadata": {},
   "outputs": [
    {
     "data": {
      "text/plain": [
       "['Remember,', 'remember,', 'the', 'fifth', 'of', 'July.']"
      ]
     },
     "execution_count": 31,
     "metadata": {},
     "output_type": "execute_result"
    }
   ],
   "source": [
    "'Remember, remember, the fifth of July.'.split()\n",
    "\n",
    ".split method split the string  with the delimeter defined and return a list of values\n",
    "here by default it was space\n",
    "\n"
   ]
  },
  {
   "cell_type": "code",
   "execution_count": 34,
   "id": "d8dfb18b",
   "metadata": {},
   "outputs": [
    {
     "data": {
      "text/plain": [
       "'There-can-only-one.'"
      ]
     },
     "execution_count": 34,
     "metadata": {},
     "output_type": "execute_result"
    }
   ],
   "source": [
    "'-'.join('There can only one.'.split())\n",
    "\n",
    "The join operators join the specified charactered inside '' single quotes at every iteration\n",
    "\n",
    "Here the string is first splited and joined by '-' character "
   ]
  },
  {
   "cell_type": "markdown",
   "id": "486373bd",
   "metadata": {},
   "source": [
    "# 9. What are the methods for right-justifying, left-justifying, and centering a string?"
   ]
  },
  {
   "cell_type": "code",
   "execution_count": 13,
   "id": "b7146de8",
   "metadata": {},
   "outputs": [
    {
     "name": "stdout",
     "output_type": "stream",
     "text": [
      "This is method for left justifying Hrithik Patel-------\n",
      "This is method for right justifying -------Hrithik Patel\n",
      "This is method for centering a string ---Hrithik Patel----\n"
     ]
    }
   ],
   "source": [
    "name='Hrithik Patel'\n",
    "print('This is method for left justifying {}'.format(name.ljust(20,'-')))\n",
    "print('This is method for right justifying {}'.format(name.rjust(20,'-')))\n",
    "print('This is method for centering a string {}'.format(name.center(20,'-')))"
   ]
  },
  {
   "cell_type": "markdown",
   "id": "d9cdba70",
   "metadata": {},
   "source": [
    "# 10. What is the best way to remove whitespace characters from the start or end?"
   ]
  },
  {
   "cell_type": "code",
   "execution_count": 32,
   "id": "44ae974c",
   "metadata": {},
   "outputs": [
    {
     "name": "stdout",
     "output_type": "stream",
     "text": [
      "   Hrithik Patel       actual string and it's length 22 stripped string Hrithik Patel  and its len 13\n"
     ]
    }
   ],
   "source": [
    "name='   Hrithik Patel      '\n",
    "#we can we strip(), lstrip or rstrip\n",
    "\n",
    "print('{} actual string and it\\'s length {} stripped string {}  and its len {}'.format(name,len(name),name.strip(),len(name.strip())))"
   ]
  },
  {
   "cell_type": "code",
   "execution_count": null,
   "id": "d1716626",
   "metadata": {},
   "outputs": [],
   "source": []
  },
  {
   "cell_type": "code",
   "execution_count": null,
   "id": "c510a9a5",
   "metadata": {},
   "outputs": [],
   "source": []
  }
 ],
 "metadata": {
  "kernelspec": {
   "display_name": "Python 3",
   "language": "python",
   "name": "python3"
  },
  "language_info": {
   "codemirror_mode": {
    "name": "ipython",
    "version": 3
   },
   "file_extension": ".py",
   "mimetype": "text/x-python",
   "name": "python",
   "nbconvert_exporter": "python",
   "pygments_lexer": "ipython3",
   "version": "3.8.8"
  }
 },
 "nbformat": 4,
 "nbformat_minor": 5
}
