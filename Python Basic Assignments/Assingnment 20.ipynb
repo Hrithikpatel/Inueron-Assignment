{
 "cells": [
  {
   "cell_type": "markdown",
   "id": "06aa9a9d",
   "metadata": {},
   "source": [
    "# 1. Set the variable test1 to the string &#39;This is a test of the emergency text system,&#39; and save test1 to a file named test.txt."
   ]
  },
  {
   "cell_type": "code",
   "execution_count": 2,
   "id": "7b8276cd",
   "metadata": {},
   "outputs": [],
   "source": [
    "test1='This is a test of the emergency text system,'\n",
    "file=open('text.txt','w')\n",
    "file.write(test1)\n",
    "file.close()"
   ]
  },
  {
   "cell_type": "markdown",
   "id": "7c3d5a67",
   "metadata": {},
   "source": [
    "# 2. Read the contents of the file test.txt into the variable test2. Is there a difference between test 1 and test 2?"
   ]
  },
  {
   "cell_type": "code",
   "execution_count": 8,
   "id": "cca5e8a9",
   "metadata": {},
   "outputs": [
    {
     "data": {
      "text/plain": [
       "('This is a test of the emergency text system,',\n",
       " 'This is a test of the emergency text system,')"
      ]
     },
     "execution_count": 8,
     "metadata": {},
     "output_type": "execute_result"
    }
   ],
   "source": [
    "file2=open('text.txt','r')\n",
    "test2=file2.read()\n",
    "file2.close()\n",
    "test1,test2\n",
    "#No there was no difference in both the files"
   ]
  },
  {
   "cell_type": "raw",
   "id": "4941045b",
   "metadata": {},
   "source": [
    "# 3. Create a CSV file called books.csv by using these lines:\n",
    "title,author,year\n",
    "The Weirdstone of Brisingamen,Alan Garner,1960\n",
    "Perdido Street Station,China Miéville,2000\n",
    "Thud!,Terry Pratchett,2005\n",
    "The Spellman Files,Lisa Lutz,2007\n",
    "Small Gods,Terry Pratchett,1992"
   ]
  },
  {
   "cell_type": "code",
   "execution_count": 9,
   "id": "89bbdee6",
   "metadata": {},
   "outputs": [
    {
     "name": "stdout",
     "output_type": "stream",
     "text": [
      "title,author,year\r\n",
      "\n",
      "The Weirdstone of Brisingamen,Alan Garner,1960\r\n",
      "\n",
      "Perdido Street Station,China Miéville,2000\r\n",
      "\n",
      "Thud!,Terry Pratchett,2005\r\n",
      "\n",
      "The Spellman Files,Lisa Lutz,2007\r\n",
      "\n",
      "Small Gods,Terry Pratchett,1992\r\n",
      "\n"
     ]
    }
   ],
   "source": [
    "import csv\n",
    "rows =[ ['title','author','year'],\n",
    "    ['The Weirdstone of Brisingamen','Alan Garner',1960],\n",
    "    ['Perdido Street Station','China Miéville',2000],\n",
    "    ['Thud!','Terry Pratchett',2005],\n",
    "    ['The Spellman Files','Lisa Lutz',2007],\n",
    "    ['Small Gods','Terry Pratchett',1992]]\n",
    "with open('books.csv','w',newline='') as file:\n",
    "    writer = csv.writer(file)\n",
    "    writer.writerows(rows)\n",
    "    \n",
    "with open('books.csv','r',newline='') as file:\n",
    "    for line in file.readlines():\n",
    "        print(line)"
   ]
  },
  {
   "cell_type": "markdown",
   "id": "f85d37c7",
   "metadata": {},
   "source": [
    "# 4. Use the sqlite3 module to create a SQLite database called books.db, and a table called books with these fields: title (text), author (text), and year (integer)."
   ]
  },
  {
   "cell_type": "code",
   "execution_count": 42,
   "id": "cef59768",
   "metadata": {},
   "outputs": [],
   "source": [
    "import sqlite3\n",
    "conn=sqlite3.connect('books.db')\n",
    "cursor=conn.cursor()\n",
    "cursor.execute('Drop Table if exists books')\n",
    "cursor.execute('Create Table books(title varchar(60),author varchar(60), year int)')\n",
    "conn.commit()"
   ]
  },
  {
   "cell_type": "code",
   "execution_count": null,
   "id": "8f288597",
   "metadata": {},
   "outputs": [],
   "source": []
  },
  {
   "cell_type": "code",
   "execution_count": 79,
   "id": "6172c4cf",
   "metadata": {},
   "outputs": [
    {
     "name": "stdout",
     "output_type": "stream",
     "text": [
      "['The Weirdstone of Brisingamen', 'Alan Garner', '1960\\n']\n",
      "['Perdido Street Station', 'China Miéville', '2000\\n']\n",
      "['Thud!', 'Terry Pratchett', '2005\\n']\n",
      "['The Spellman Files', 'Lisa Lutz', '2007\\n']\n",
      "['Small Gods', 'Terry Pratchett', '1992\\n']\n"
     ]
    }
   ],
   "source": [
    "import csv\n",
    "with open('books.csv') as file:\n",
    "    files=csv.reader(file)\n",
    "    for x,row in enumerate(file):\n",
    "        if x == 0:\n",
    "            continue\n",
    "        print(row.split(','))\n",
    "        #cursor.execute('Insert into books.books values({})'.format(row))\n",
    "        #conn.commit\n",
    "    \n",
    "    \n",
    "                     \n",
    "        #cursor.execute('Insert into books (rows)')"
   ]
  },
  {
   "cell_type": "code",
   "execution_count": 59,
   "id": "074295ff",
   "metadata": {},
   "outputs": [
    {
     "data": {
      "text/plain": [
       "[]"
      ]
     },
     "execution_count": 59,
     "metadata": {},
     "output_type": "execute_result"
    }
   ],
   "source": [
    "cursor.execute(\"insert into books values('The Weirdstone','Alan Garner',1960)\")"
   ]
  },
  {
   "cell_type": "code",
   "execution_count": 71,
   "id": "05a79572",
   "metadata": {},
   "outputs": [],
   "source": [
    "st='Hii how '"
   ]
  },
  {
   "cell_type": "code",
   "execution_count": 77,
   "id": "d30a4483",
   "metadata": {},
   "outputs": [
    {
     "data": {
      "text/plain": [
       "'H,i,i, ,h,o,w, '"
      ]
     },
     "execution_count": 77,
     "metadata": {},
     "output_type": "execute_result"
    }
   ],
   "source": [
    "','.join(st)"
   ]
  },
  {
   "cell_type": "code",
   "execution_count": null,
   "id": "c51d16a5",
   "metadata": {},
   "outputs": [],
   "source": []
  }
 ],
 "metadata": {
  "kernelspec": {
   "display_name": "Python 3",
   "language": "python",
   "name": "python3"
  },
  "language_info": {
   "codemirror_mode": {
    "name": "ipython",
    "version": 3
   },
   "file_extension": ".py",
   "mimetype": "text/x-python",
   "name": "python",
   "nbconvert_exporter": "python",
   "pygments_lexer": "ipython3",
   "version": "3.8.8"
  }
 },
 "nbformat": 4,
 "nbformat_minor": 5
}
