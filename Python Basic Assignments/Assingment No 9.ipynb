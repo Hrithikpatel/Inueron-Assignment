{
 "cells": [
  {
   "cell_type": "markdown",
   "id": "23a35a47",
   "metadata": {},
   "source": [
    "# 1. To what does a relative path refer?"
   ]
  },
  {
   "cell_type": "code",
   "execution_count": null,
   "id": "4a8b321c",
   "metadata": {},
   "outputs": [],
   "source": [
    "Relative Path is the hierarchical path that locates a file or folder on a file system starting from the current directory"
   ]
  },
  {
   "cell_type": "code",
   "execution_count": 6,
   "id": "8f1d33e4",
   "metadata": {},
   "outputs": [
    {
     "name": "stdout",
     "output_type": "stream",
     "text": [
      " Volume in drive C is Windows\n",
      " Volume Serial Number is E08D-DAD9\n",
      "\n",
      " Directory of C:\\Users\\hrith\\INeuron\\Python Basic Assignments\n",
      "\n",
      "03/17/2022  01:28    <DIR>          .\n",
      "03/17/2022  01:11    <DIR>          ..\n",
      "03/17/2022  01:19    <DIR>          .ipynb_checkpoints\n",
      "01/08/2022  17:55             8,086 Assignment 1.ipynb\n",
      "01/08/2022  17:59             8,248 Assignment 2.ipynb\n",
      "01/15/2022  20:53             6,592 Assignment 3.ipynb\n",
      "02/06/2022  19:33            10,803 Assignment No 4.ipynb\n",
      "02/06/2022  19:32             6,852 Assignment No 5.ipynb\n",
      "02/06/2022  21:16             8,551 Assignment No 6.ipynb\n",
      "03/17/2022  01:04            13,605 Assingment 8.ipynb\n",
      "03/17/2022  01:28             1,616 Assingment No 9.ipynb\n",
      "               8 File(s)         64,353 bytes\n",
      "               3 Dir(s)  779,125,866,496 bytes free\n"
     ]
    }
   ],
   "source": [
    "ls"
   ]
  },
  {
   "cell_type": "code",
   "execution_count": null,
   "id": "6dc4a16d",
   "metadata": {},
   "outputs": [],
   "source": [
    "Here the current working directory is Python Basic Assignments\n",
    "so if we need to acces any file we can directly write the name instead of passing the entire path"
   ]
  },
  {
   "cell_type": "markdown",
   "id": "4bc81583",
   "metadata": {},
   "source": [
    "# 2. What does an absolute path start with your operating system?"
   ]
  },
  {
   "cell_type": "code",
   "execution_count": null,
   "id": "255f6360",
   "metadata": {},
   "outputs": [],
   "source": [
    "An absolute path refers to the complete details needed to locate a file or folder,\n",
    "starting from the root element and ending with the other subdirectories"
   ]
  },
  {
   "cell_type": "markdown",
   "id": "3fd5771b",
   "metadata": {},
   "source": [
    "# 3. What do the functions os.getcwd() and os.chdir() do?"
   ]
  },
  {
   "cell_type": "code",
   "execution_count": 10,
   "id": "16dd12e3",
   "metadata": {},
   "outputs": [
    {
     "data": {
      "text/plain": [
       "['Al-Sweigart-Automate-The-Boring-Stuff-With-Python_-Practical-Programming-For-Total-Beginners-No-Starch-Press-2019.pdf',\n",
       " 'Complete Python Module-20220213T082204Z-001',\n",
       " 'Complete Python Module-20220213T082204Z-001.zip',\n",
       " 'docs-pdf',\n",
       " 'Effective-Python.pdf',\n",
       " 'O-Reilly-SQL-Cookbook-2nd-Edition-Final.pdf',\n",
       " 'python-3.10.2-docs-pdf-letter.zip',\n",
       " 'Python-Cookbook-3rd-Edition.pdf',\n",
       " 'python_machine_learning_machine_learning_and_deep_learning_with_python_scikit-learn_and_tensorflow_2nd_edition_pdfdrive.com_.pdf']"
      ]
     },
     "execution_count": 10,
     "metadata": {},
     "output_type": "execute_result"
    }
   ],
   "source": [
    "import os\n",
    "\n",
    "os.getcwd()\n",
    "#This basically returns the current working directory\n",
    "\n",
    "\n",
    "os.chdir(r'C:\\Users\\hrith\\Data Science Books')\n",
    "\n",
    "\n",
    "os.listdir()\n",
    "\n",
    "#now we are in other working directory"
   ]
  },
  {
   "cell_type": "markdown",
   "id": "c88dbd1e",
   "metadata": {},
   "source": [
    "# 4. What are the . and .. folders?"
   ]
  },
  {
   "cell_type": "code",
   "execution_count": null,
   "id": "fc7eb963",
   "metadata": {},
   "outputs": [],
   "source": [
    ". single dot means the current folder\n",
    ".. double dot means the parent folder"
   ]
  },
  {
   "cell_type": "markdown",
   "id": "f9f28f2e",
   "metadata": {},
   "source": [
    "# 5. In C:\\bacon\\eggs\\spam.txt, which part is the dir name, and which part is the base name?"
   ]
  },
  {
   "cell_type": "code",
   "execution_count": null,
   "id": "ece1b5a0",
   "metadata": {},
   "outputs": [],
   "source": [
    " C:\\bacon\\eggs\\ is dir name spam.txt is base name "
   ]
  },
  {
   "cell_type": "markdown",
   "id": "bdf3b312",
   "metadata": {},
   "source": [
    "# 6. What are the three “mode” arguments that can be passed to the open() function?"
   ]
  },
  {
   "cell_type": "code",
   "execution_count": null,
   "id": "b63d545e",
   "metadata": {},
   "outputs": [],
   "source": [
    "The three mode arguments that can be passed to the open() function are:\n",
    "\n",
    "'r' for read mode\n",
    "'w' for write mode\n",
    "'a' for append mode."
   ]
  },
  {
   "cell_type": "markdown",
   "id": "6ea3743b",
   "metadata": {},
   "source": [
    "# 7. What happens if an existing file is opened in write mode?"
   ]
  },
  {
   "cell_type": "code",
   "execution_count": null,
   "id": "3d9d4c0e",
   "metadata": {},
   "outputs": [],
   "source": [
    "If an existing file is opened in write mode, then all the existing content from the file is erased and the new content \n",
    "will be added.This might result in loss of data if youwanted to have both existing and new data to existing in the file"
   ]
  },
  {
   "cell_type": "markdown",
   "id": "72edeea1",
   "metadata": {},
   "source": [
    "# 8. How do you tell the difference between read() and readlines()?\n"
   ]
  },
  {
   "cell_type": "code",
   "execution_count": null,
   "id": "ce19d460",
   "metadata": {},
   "outputs": [],
   "source": [
    "The read() method returns the file’s entire contents as a single string value.\n",
    "The readlines() method returns a list of strings, where each string is a line from the file’s contents.\n"
   ]
  },
  {
   "cell_type": "markdown",
   "id": "c1bee1f6",
   "metadata": {},
   "source": [
    "# 9. What data structure does a shelf value resemble?\n"
   ]
  },
  {
   "cell_type": "code",
   "execution_count": null,
   "id": "0de15aad",
   "metadata": {},
   "outputs": [],
   "source": [
    "A shelf value resembles a dictionary value; it has keys and values, along with keys() and values() \n",
    "methods that work similarly to the dictionary methods of the same names."
   ]
  },
  {
   "cell_type": "code",
   "execution_count": null,
   "id": "4d0140ad",
   "metadata": {},
   "outputs": [],
   "source": []
  },
  {
   "cell_type": "code",
   "execution_count": null,
   "id": "17c994dc",
   "metadata": {},
   "outputs": [],
   "source": []
  },
  {
   "cell_type": "code",
   "execution_count": null,
   "id": "1d6c6a54",
   "metadata": {},
   "outputs": [],
   "source": []
  },
  {
   "cell_type": "code",
   "execution_count": null,
   "id": "f5435657",
   "metadata": {},
   "outputs": [],
   "source": []
  },
  {
   "cell_type": "code",
   "execution_count": null,
   "id": "53dc5e65",
   "metadata": {},
   "outputs": [],
   "source": []
  },
  {
   "cell_type": "code",
   "execution_count": null,
   "id": "70ffc5af",
   "metadata": {},
   "outputs": [],
   "source": []
  },
  {
   "cell_type": "code",
   "execution_count": null,
   "id": "2b544bb1",
   "metadata": {},
   "outputs": [],
   "source": []
  },
  {
   "cell_type": "code",
   "execution_count": null,
   "id": "00374ce7",
   "metadata": {},
   "outputs": [],
   "source": []
  }
 ],
 "metadata": {
  "kernelspec": {
   "display_name": "Python 3",
   "language": "python",
   "name": "python3"
  },
  "language_info": {
   "codemirror_mode": {
    "name": "ipython",
    "version": 3
   },
   "file_extension": ".py",
   "mimetype": "text/x-python",
   "name": "python",
   "nbconvert_exporter": "python",
   "pygments_lexer": "ipython3",
   "version": "3.8.8"
  }
 },
 "nbformat": 4,
 "nbformat_minor": 5
}
