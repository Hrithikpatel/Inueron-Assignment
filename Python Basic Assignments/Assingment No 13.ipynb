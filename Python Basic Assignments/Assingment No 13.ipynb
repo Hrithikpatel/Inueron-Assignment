{
 "cells": [
  {
   "cell_type": "markdown",
   "id": "e4f915b3",
   "metadata": {},
   "source": [
    "# 1. What advantages do Excel spreadsheets have over CSV spreadsheets?"
   ]
  },
  {
   "cell_type": "code",
   "execution_count": null,
   "id": "4b8af294",
   "metadata": {},
   "outputs": [],
   "source": [
    "Excel is more superior when compared with the CSV file format; thus, CSV consumes less amount of file size when the user is \n",
    "importing data; it is a much faster format compared to excel.CSV does not manipulate data and stores it as-is."
   ]
  },
  {
   "cell_type": "markdown",
   "id": "081b3464",
   "metadata": {},
   "source": [
    "# 2.What do you pass to csv.reader() and csv.writer() to create reader and writer objects?"
   ]
  },
  {
   "cell_type": "code",
   "execution_count": 28,
   "id": "900c9d90",
   "metadata": {},
   "outputs": [
    {
     "name": "stdout",
     "output_type": "stream",
     "text": [
      "0 SUBS_CIRCLE_ID\n",
      "1 2\n",
      "2 18\n",
      "3 18\n",
      "4 19\n",
      "5 8\n",
      "6 6\n",
      "7 12\n",
      "8 13\n",
      "9 2\n",
      "10 19\n",
      "11 15\n",
      "12 18\n",
      "13 7\n",
      "14 15\n",
      "15 6\n"
     ]
    }
   ],
   "source": [
    "import csv\n",
    "with open(r'C:\\Users\\hrith\\Desktop\\17 mar og ic/og zero feb.csv','r') as file:\n",
    "    files=csv.reader(file)\n",
    "    for x,y in enumerate(files):\n",
    "        if x<=15:\n",
    "            print(x,y[0])\n",
    "        else:\n",
    "            break\n",
    "            \n",
    "#We pass a File object, obtained from a call to open()."
   ]
  },
  {
   "cell_type": "code",
   "execution_count": null,
   "id": "55f76413",
   "metadata": {},
   "outputs": [],
   "source": [
    "\n"
   ]
  },
  {
   "cell_type": "markdown",
   "id": "a1ce0061",
   "metadata": {},
   "source": [
    "# 3. What modes do File objects for reader and writer objects need to be opened in?"
   ]
  },
  {
   "cell_type": "code",
   "execution_count": null,
   "id": "3d25fe08",
   "metadata": {},
   "outputs": [],
   "source": [
    "File objects need to be opened in read-binary ('rb') for reader objects and write-binary ('wb') for writer objects."
   ]
  },
  {
   "cell_type": "markdown",
   "id": "ad350c2e",
   "metadata": {},
   "source": [
    "# 4. What method takes a list argument and writes it to a CSV file?"
   ]
  },
  {
   "cell_type": "code",
   "execution_count": null,
   "id": "3f21c295",
   "metadata": {},
   "outputs": [],
   "source": [
    "The writerow() method"
   ]
  },
  {
   "cell_type": "markdown",
   "id": "00ac4855",
   "metadata": {},
   "source": [
    "# 5. What do the keyword arguments delimiter and line terminator do"
   ]
  },
  {
   "cell_type": "code",
   "execution_count": null,
   "id": "082c576e",
   "metadata": {},
   "outputs": [],
   "source": [
    "The delimiter argument changes the string used to separate cells in a row.\n",
    "The lineterminator argument changes the string used to separate rows."
   ]
  },
  {
   "cell_type": "markdown",
   "id": "b34e450f",
   "metadata": {},
   "source": [
    "# 6. What function takes a string of JSON data and returns a Python data structure?"
   ]
  },
  {
   "cell_type": "code",
   "execution_count": null,
   "id": "d81c84d7",
   "metadata": {},
   "outputs": [],
   "source": [
    "json.loads()"
   ]
  },
  {
   "cell_type": "markdown",
   "id": "82a85d98",
   "metadata": {},
   "source": [
    "# 7. What function takes a Python data structure and returns a string of JSON data?"
   ]
  },
  {
   "cell_type": "code",
   "execution_count": null,
   "id": "dd986b09",
   "metadata": {},
   "outputs": [],
   "source": [
    "json.dumps()"
   ]
  }
 ],
 "metadata": {
  "kernelspec": {
   "display_name": "Python 3",
   "language": "python",
   "name": "python3"
  },
  "language_info": {
   "codemirror_mode": {
    "name": "ipython",
    "version": 3
   },
   "file_extension": ".py",
   "mimetype": "text/x-python",
   "name": "python",
   "nbconvert_exporter": "python",
   "pygments_lexer": "ipython3",
   "version": "3.8.8"
  }
 },
 "nbformat": 4,
 "nbformat_minor": 5
}
