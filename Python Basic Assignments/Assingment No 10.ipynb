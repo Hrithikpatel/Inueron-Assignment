{
 "cells": [
  {
   "cell_type": "markdown",
   "id": "ab787d57",
   "metadata": {},
   "source": [
    "# 1. How do you distinguish between shutil.copy() and shutil.copytree()?"
   ]
  },
  {
   "cell_type": "code",
   "execution_count": 6,
   "id": "1b0de54d",
   "metadata": {},
   "outputs": [],
   "source": [
    "import shutil,os"
   ]
  },
  {
   "cell_type": "code",
   "execution_count": 7,
   "id": "61833582",
   "metadata": {},
   "outputs": [
    {
     "data": {
      "text/plain": [
       "['.ipynb_checkpoints',\n",
       " 'Assignment 1.ipynb',\n",
       " 'Assignment 2.ipynb',\n",
       " 'Assignment 3.ipynb',\n",
       " 'Assignment No 4.ipynb',\n",
       " 'Assignment No 5.ipynb',\n",
       " 'Assignment No 6.ipynb',\n",
       " 'Assingment 8.ipynb',\n",
       " 'Assingment No 10.ipynb',\n",
       " 'Assingment No 9.ipynb']"
      ]
     },
     "execution_count": 7,
     "metadata": {},
     "output_type": "execute_result"
    }
   ],
   "source": [
    "os.listdir()"
   ]
  },
  {
   "cell_type": "code",
   "execution_count": 14,
   "id": "a82d4823",
   "metadata": {},
   "outputs": [
    {
     "data": {
      "text/plain": [
       "'C:\\\\Users\\\\hrith\\\\Desktop\\\\Assignment 1.ipynb'"
      ]
     },
     "execution_count": 14,
     "metadata": {},
     "output_type": "execute_result"
    }
   ],
   "source": [
    "shutil.copy('Assignment 1.ipynb',r'C:\\Users\\hrith\\Desktop')"
   ]
  },
  {
   "cell_type": "code",
   "execution_count": 17,
   "id": "9d163f74",
   "metadata": {},
   "outputs": [
    {
     "data": {
      "text/plain": [
       "'C:\\\\Users\\\\hrith\\\\Desktop\\\\Assingment Backup'"
      ]
     },
     "execution_count": 17,
     "metadata": {},
     "output_type": "execute_result"
    }
   ],
   "source": [
    "shutil.copytree(os.getcwd(),r'C:\\Users\\hrith\\Desktop\\Assingment Backup')"
   ]
  },
  {
   "cell_type": "code",
   "execution_count": null,
   "id": "56c52270",
   "metadata": {},
   "outputs": [],
   "source": [
    "The shutil.copy() copies that particular files mentioned in the scr=param or first positional args\n",
    "to the destination\n",
    "The shutil.copytree() copies particular folder to the desired location"
   ]
  },
  {
   "cell_type": "markdown",
   "id": "ce2c6d24",
   "metadata": {},
   "source": [
    "# 2. What function is used to rename files??"
   ]
  },
  {
   "cell_type": "code",
   "execution_count": null,
   "id": "3db60760",
   "metadata": {},
   "outputs": [],
   "source": [
    "os.rename()\n",
    "\n",
    "This can be used to rename a files or folder"
   ]
  },
  {
   "cell_type": "markdown",
   "id": "741e2499",
   "metadata": {},
   "source": [
    "# 3. What is the difference between the delete functions in the send2trash and shutil modules?"
   ]
  },
  {
   "cell_type": "code",
   "execution_count": 18,
   "id": "746ed62a",
   "metadata": {},
   "outputs": [],
   "source": [
    "import send2trash as s2t"
   ]
  },
  {
   "cell_type": "code",
   "execution_count": 21,
   "id": "274a42a3",
   "metadata": {},
   "outputs": [],
   "source": [
    "shutil.rmtree(r'C:/Users/hrith/Desktop/27_5') #this will permanently delete the file cleaning up the space"
   ]
  },
  {
   "cell_type": "code",
   "execution_count": 22,
   "id": "335b5a7b",
   "metadata": {},
   "outputs": [],
   "source": [
    "s2t.send2trash(r'C:\\Users\\hrith\\Desktop\\2 mar') #thi will delete the files but put them into the recycle bin"
   ]
  },
  {
   "cell_type": "markdown",
   "id": "c10e1fa0",
   "metadata": {},
   "source": [
    "# 4.ZipFile objects have a close() method just like File objects’ close() method. What ZipFile method isequivalent to File objects’ open() method?"
   ]
  },
  {
   "cell_type": "code",
   "execution_count": 24,
   "id": "993318fe",
   "metadata": {},
   "outputs": [],
   "source": [
    "import zipfile as zip"
   ]
  },
  {
   "cell_type": "code",
   "execution_count": 26,
   "id": "fbd0db23",
   "metadata": {},
   "outputs": [],
   "source": [
    "obj=zip.ZipFile(r'C:/Users/hrith/Desktop/27_5.zip') #ZipFilw Method is equivalent to file open() method "
   ]
  },
  {
   "cell_type": "code",
   "execution_count": 30,
   "id": "75fcd71b",
   "metadata": {},
   "outputs": [
    {
     "data": {
      "text/plain": [
       "['27_5/3a_Daily 4G UU_PREPAID_Mar22_W08_27 to 05_Query Output_Rated.csv',\n",
       " '27_5/3b_Daily 4G UU_POSTPAID_Mar22_W08_27 to 05_Query Output_Rated.csv',\n",
       " '27_5/6_Daily VoLTE UU_Mar_W08_27 to 05_Query Output.csv',\n",
       " '27_5/8_Daily VoLTE MOU_Mar22_W09_27 to 05_Query Output.csv',\n",
       " '27_5/8a_Daily_VoLTE_OnNet_MOU_Mar22_W09_27_to_05_Query_Output.csv',\n",
       " '27_5/8b_Daily_VoLTE_OffNet_MOU_Mar22_W08_27_to_05_Query_Output.csv',\n",
       " '27_5/9a_Daily VoLTE UU Total mar22_W9_27 _05 Query Output_rev.csv',\n",
       " '27_5/9b_Daily VoLTE UU ICOG MOU_Mar22_W9_27_05_Query Output.csv',\n",
       " '27_5/9c 27feb_05mar.csv',\n",
       " '27_5/marketing 3mar.csv',\n",
       " '27_5/totalmou 2702_0503_2022.csv',\n",
       " '27_5/vowifi cnt 27_05 Mar _22.csv']"
      ]
     },
     "execution_count": 30,
     "metadata": {},
     "output_type": "execute_result"
    }
   ],
   "source": [
    "obj.namelist()"
   ]
  },
  {
   "cell_type": "markdown",
   "id": "eaabbb34",
   "metadata": {},
   "source": [
    "# 5. Create a programme that searches a folder tree for files with a certain file extension (such as .pdfor .jpg). Copy these files from whatever location they are in to a new folder."
   ]
  },
  {
   "cell_type": "code",
   "execution_count": 39,
   "id": "6d5abe51",
   "metadata": {},
   "outputs": [],
   "source": [
    "os.mkdir(r'C:\\Users\\hrith\\INeuron\\Python\\new_folder')\n",
    "for text_file in os.listdir(r'C:\\Users\\hrith\\INeuron\\Python'):\n",
    "    if text_file.endswith('.txt'):\n",
    "        shutil.copy(r'C:\\Users\\hrith\\INeuron\\Python/'+text_file,r'C:\\Users\\hrith\\INeuron\\Python\\new_folder')\n",
    "        "
   ]
  },
  {
   "cell_type": "code",
   "execution_count": 40,
   "id": "d3a760ff",
   "metadata": {},
   "outputs": [
    {
     "data": {
      "text/plain": [
       "['appendtext5.txt', 'data.txt', 'google.txt', 'Python Topics.txt']"
      ]
     },
     "execution_count": 40,
     "metadata": {},
     "output_type": "execute_result"
    }
   ],
   "source": [
    "os.listdir(r'C:\\Users\\hrith\\INeuron\\Python\\new_folder/')"
   ]
  },
  {
   "cell_type": "code",
   "execution_count": null,
   "id": "f32a452d",
   "metadata": {},
   "outputs": [],
   "source": []
  }
 ],
 "metadata": {
  "kernelspec": {
   "display_name": "Python 3",
   "language": "python",
   "name": "python3"
  },
  "language_info": {
   "codemirror_mode": {
    "name": "ipython",
    "version": 3
   },
   "file_extension": ".py",
   "mimetype": "text/x-python",
   "name": "python",
   "nbconvert_exporter": "python",
   "pygments_lexer": "ipython3",
   "version": "3.8.8"
  }
 },
 "nbformat": 4,
 "nbformat_minor": 5
}
