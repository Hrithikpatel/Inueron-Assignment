{
 "cells": [
  {
   "cell_type": "markdown",
   "id": "db10e2c2",
   "metadata": {},
   "source": [
    "# 1. What exactly is []?"
   ]
  },
  {
   "cell_type": "code",
   "execution_count": null,
   "id": "d53257a5",
   "metadata": {},
   "outputs": [],
   "source": [
    "In Python a list is created with the help of [] brackets"
   ]
  },
  {
   "cell_type": "markdown",
   "id": "51e6741c",
   "metadata": {},
   "source": [
    "# 2. In a list of values stored in a variable called spam, how would you assign the value &#39;hello&#39; as the\n",
    "third value? (Assume [2, 4, 6, 8, 10] are in spam.)"
   ]
  },
  {
   "cell_type": "code",
   "execution_count": 1,
   "id": "2cb92477",
   "metadata": {},
   "outputs": [],
   "source": [
    "spam=[2,4,6,8,10]\n",
    "spam.insert(3,'hello')\n"
   ]
  },
  {
   "cell_type": "code",
   "execution_count": 3,
   "id": "f69de68c",
   "metadata": {},
   "outputs": [
    {
     "data": {
      "text/plain": [
       "'hello'"
      ]
     },
     "execution_count": 3,
     "metadata": {},
     "output_type": "execute_result"
    }
   ],
   "source": [
    "spam[3]"
   ]
  },
  {
   "cell_type": "markdown",
   "id": "9db34b84",
   "metadata": {},
   "source": [
    "# Let&#39;s pretend the spam includes the list [&#39;a&#39;, &#39;b&#39;, &#39;c&#39;, &#39;d&#39;] for the next three queries.\n",
    "3. What is the value of spam[int(int(&#39;3&#39; * 2) / 11)]?"
   ]
  },
  {
   "cell_type": "code",
   "execution_count": null,
   "id": "ae587c43",
   "metadata": {},
   "outputs": [],
   "source": [
    "spam=['a','b','c','d']\n",
    "spam[int(int('3'*2)/11)]"
   ]
  },
  {
   "cell_type": "code",
   "execution_count": null,
   "id": "4b7ed12a",
   "metadata": {},
   "outputs": [],
   "source": [
    "here first the inner bracket is executed '3'*2 which makes '33' and then we perform type conversion 33 then it is divided by 11\n",
    "which result in 3 \n",
    "spam[3]  = 'd' as d is stored at the 3 index"
   ]
  },
  {
   "cell_type": "markdown",
   "id": "c1869d6b",
   "metadata": {},
   "source": [
    "# 4. What is the value of spam[-1]?"
   ]
  },
  {
   "cell_type": "code",
   "execution_count": 18,
   "id": "52ea681a",
   "metadata": {},
   "outputs": [
    {
     "data": {
      "text/plain": [
       "'d'"
      ]
     },
     "execution_count": 18,
     "metadata": {},
     "output_type": "execute_result"
    }
   ],
   "source": [
    "The negative indexing start fecthing data from the end of the list \n",
    "spam[-1]\n",
    "\n",
    "d is the first element starting from the end"
   ]
  },
  {
   "cell_type": "markdown",
   "id": "81bebdbc",
   "metadata": {},
   "source": [
    "# 5. What is the value of spam[:2]?"
   ]
  },
  {
   "cell_type": "code",
   "execution_count": 19,
   "id": "acb3beaa",
   "metadata": {},
   "outputs": [
    {
     "data": {
      "text/plain": [
       "['a', 'b']"
      ]
     },
     "execution_count": 19,
     "metadata": {},
     "output_type": "execute_result"
    }
   ],
   "source": [
    "spam[:2]\n",
    "\n",
    "The indexing has start,end ,stepsize \n",
    "here,start and stepsize are by default 0\n",
    "endpoint is defined by 2\n",
    "\n",
    "which call start two elements from the spam"
   ]
  },
  {
   "cell_type": "markdown",
   "id": "47d098c1",
   "metadata": {},
   "source": [
    "# Let&#39;s pretend bacon has the list [3.14, &#39;cat,&#39; 11, &#39;cat,&#39; True] for the next three questions.\n",
    "6. What is the value of bacon.index(&#39;cat&#39;)?"
   ]
  },
  {
   "cell_type": "code",
   "execution_count": 20,
   "id": "4978d360",
   "metadata": {},
   "outputs": [],
   "source": [
    "bacon=[3.14,'cat',11,'cat',True]"
   ]
  },
  {
   "cell_type": "code",
   "execution_count": 21,
   "id": "2968288d",
   "metadata": {},
   "outputs": [
    {
     "data": {
      "text/plain": [
       "1"
      ]
     },
     "execution_count": 21,
     "metadata": {},
     "output_type": "execute_result"
    }
   ],
   "source": [
    "bacon.index('cat')\n",
    "\n",
    "The index function return the index of the element "
   ]
  },
  {
   "cell_type": "markdown",
   "id": "93e3064e",
   "metadata": {},
   "source": [
    "# 7. How does bacon.append(99) change the look of the list value in bacon?"
   ]
  },
  {
   "cell_type": "code",
   "execution_count": null,
   "id": "e977dada",
   "metadata": {},
   "outputs": [],
   "source": [
    "bacon.append(99)\n"
   ]
  },
  {
   "cell_type": "code",
   "execution_count": 26,
   "id": "33e9ed12",
   "metadata": {},
   "outputs": [
    {
     "data": {
      "text/plain": [
       "[3.14, 'cat', 11, 'cat', True, 99]"
      ]
     },
     "execution_count": 26,
     "metadata": {},
     "output_type": "execute_result"
    }
   ],
   "source": [
    "bacon\n",
    "\n",
    "the append function add an element the end of the list"
   ]
  },
  {
   "cell_type": "markdown",
   "id": "5aac8156",
   "metadata": {},
   "source": [
    "# 8. How does bacon.remove(&#39;cat&#39;) change the look of the list in bacon?"
   ]
  },
  {
   "cell_type": "code",
   "execution_count": 30,
   "id": "86b50f1f",
   "metadata": {},
   "outputs": [
    {
     "data": {
      "text/plain": [
       "[3.14, 11, 'cat', True, 99]"
      ]
     },
     "execution_count": 30,
     "metadata": {},
     "output_type": "execute_result"
    }
   ],
   "source": [
    "bacon.remove('cat')\n",
    "\n",
    "removes the element cat from the list on the first occurence\n",
    "\n",
    "bacon"
   ]
  },
  {
   "cell_type": "markdown",
   "id": "6146d619",
   "metadata": {},
   "source": [
    "# 9. What are the list concatenation and list replication operators?"
   ]
  },
  {
   "cell_type": "code",
   "execution_count": null,
   "id": "895d4631",
   "metadata": {},
   "outputs": [],
   "source": [
    "The list concatenation operator is + while list replication operator is *"
   ]
  },
  {
   "cell_type": "markdown",
   "id": "af79af40",
   "metadata": {},
   "source": [
    "# 10. What is difference between the list methods append() and insert()?"
   ]
  },
  {
   "cell_type": "code",
   "execution_count": null,
   "id": "4258a4d0",
   "metadata": {},
   "outputs": [],
   "source": [
    "the list append methods add element to the end of the list while \n",
    "insert method add element to the defined index of the list"
   ]
  },
  {
   "cell_type": "markdown",
   "id": "ccba0b81",
   "metadata": {},
   "source": [
    "# 11. What are the two methods for removing items from a list?"
   ]
  },
  {
   "cell_type": "code",
   "execution_count": null,
   "id": "27f0de8c",
   "metadata": {},
   "outputs": [],
   "source": [
    "remove and pop methods are used to remove element from then list"
   ]
  },
  {
   "cell_type": "markdown",
   "id": "1f6fb40f",
   "metadata": {},
   "source": [
    "# 12. Describe how list values and string values are identical."
   ]
  },
  {
   "cell_type": "code",
   "execution_count": null,
   "id": "3a2548f5",
   "metadata": {},
   "outputs": [],
   "source": [
    "The similarity between Lists and Strings in Python is that both are sequences.\n",
    "The differences between them are that firstly, Lists are mutable but Strings are immutable. \n",
    "Secondly, elements of a list can be of different types whereas a String only contains characters that are all of String type."
   ]
  },
  {
   "cell_type": "markdown",
   "id": "a480561a",
   "metadata": {},
   "source": [
    "# 13. What&#39;s the difference between tuples and lists?"
   ]
  },
  {
   "cell_type": "code",
   "execution_count": null,
   "id": "6085e5d8",
   "metadata": {},
   "outputs": [],
   "source": [
    "The key difference between the tuples and lists is that while the tuples are immutable objects the lists are mutable. \n",
    "This means that tuples cannot be changed while the lists can be modified"
   ]
  },
  {
   "cell_type": "markdown",
   "id": "0e42bfbc",
   "metadata": {},
   "source": [
    "# 14. How do you type a tuple value that only contains the integer 42?"
   ]
  },
  {
   "cell_type": "code",
   "execution_count": 31,
   "id": "49870b56",
   "metadata": {},
   "outputs": [],
   "source": [
    "K=(41,)"
   ]
  },
  {
   "cell_type": "code",
   "execution_count": null,
   "id": "cbf1774c",
   "metadata": {},
   "outputs": [],
   "source": [
    "By using a comma after the element"
   ]
  },
  {
   "cell_type": "markdown",
   "id": "924b001e",
   "metadata": {},
   "source": [
    "# 15. How do you get a list value&#39;s tuple form? How do you get a tuple value&#39;s list form?"
   ]
  },
  {
   "cell_type": "code",
   "execution_count": 34,
   "id": "a5a09058",
   "metadata": {},
   "outputs": [
    {
     "data": {
      "text/plain": [
       "(1, 2, 3, 4)"
      ]
     },
     "execution_count": 34,
     "metadata": {},
     "output_type": "execute_result"
    }
   ],
   "source": [
    "lst=[1,2,3,4]\n",
    "lst=tuple(lst)\n",
    "lst"
   ]
  },
  {
   "cell_type": "code",
   "execution_count": null,
   "id": "43b1091d",
   "metadata": {},
   "outputs": [],
   "source": [
    "we can simply do that by type conversion\n"
   ]
  },
  {
   "cell_type": "markdown",
   "id": "495f81f6",
   "metadata": {},
   "source": [
    "# 16. Variables that &quot;contain&quot; list values are not necessarily lists themselves. Instead, what do they\n",
    "contain?"
   ]
  },
  {
   "cell_type": "code",
   "execution_count": 36,
   "id": "835d62bc",
   "metadata": {},
   "outputs": [],
   "source": [
    "L1=(1,2,[3,4],6)"
   ]
  },
  {
   "cell_type": "code",
   "execution_count": 37,
   "id": "9e3d035a",
   "metadata": {},
   "outputs": [
    {
     "data": {
      "text/plain": [
       "tuple"
      ]
     },
     "execution_count": 37,
     "metadata": {},
     "output_type": "execute_result"
    }
   ],
   "source": [
    "type(L1)\n"
   ]
  },
  {
   "cell_type": "markdown",
   "id": "9dbeb235",
   "metadata": {},
   "source": [
    "# 17. How do you distinguish between copy.copy() and copy.deepcopy()?"
   ]
  },
  {
   "cell_type": "code",
   "execution_count": null,
   "id": "d74e9c86",
   "metadata": {},
   "outputs": [],
   "source": [
    "Shallow Copy reflects changes made to the new/copied object in the original object.\n",
    "\n",
    "Deep copy doesnot reflect changes made to the new/copied object in the original object."
   ]
  }
 ],
 "metadata": {
  "kernelspec": {
   "display_name": "Python 3",
   "language": "python",
   "name": "python3"
  },
  "language_info": {
   "codemirror_mode": {
    "name": "ipython",
    "version": 3
   },
   "file_extension": ".py",
   "mimetype": "text/x-python",
   "name": "python",
   "nbconvert_exporter": "python",
   "pygments_lexer": "ipython3",
   "version": "3.8.8"
  }
 },
 "nbformat": 4,
 "nbformat_minor": 5
}
