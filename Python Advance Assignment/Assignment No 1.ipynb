{
 "cells": [
  {
   "cell_type": "markdown",
   "id": "8800ac20",
   "metadata": {},
   "source": [
    "# Q1. What is the purpose of Python&#39;s OOP?"
   ]
  },
  {
   "cell_type": "code",
   "execution_count": null,
   "id": "355fb7d6",
   "metadata": {},
   "outputs": [],
   "source": [
    "In Python Object Oriented Programming is used to implement real world entity \n",
    "such as encapsulation , polymorphism,inheritance etc"
   ]
  },
  {
   "cell_type": "markdown",
   "id": "d4e5fe1a",
   "metadata": {},
   "source": [
    "# Q2. Where does an inheritance search look for an attribute?"
   ]
  },
  {
   "cell_type": "code",
   "execution_count": null,
   "id": "2ac87244",
   "metadata": {},
   "outputs": [],
   "source": [
    "Inheritance attribute does are simply tree searches.\n",
    "The term inheritance is applied because objects lower in a tree inherit attributes attached to objects higher in that tree\n",
    "As the search proceeds from the bottom up, in a sense, the objects linked into a tree are the union of all the attributes\n",
    "defined in all their tree parents, all the way up the tree."
   ]
  },
  {
   "cell_type": "markdown",
   "id": "40ae3466",
   "metadata": {},
   "source": [
    "# Q3. How do you distinguish between a class object and an instance object?"
   ]
  },
  {
   "cell_type": "code",
   "execution_count": 1,
   "id": "b53b65d7",
   "metadata": {},
   "outputs": [],
   "source": [
    "class student:\n",
    "    standard=7\n",
    "    def __init__(self,name,roll):\n",
    "        self.name=name\n",
    "        self.rollno=roll\n",
    "        self.div='B'\n",
    "        \n",
    "    def details(self):\n",
    "        return 'Student Name is {}, he is in {} division {} and Roll No: {}'.format(self.name,standard,self.div,self.rollno)\n",
    "    "
   ]
  },
  {
   "cell_type": "code",
   "execution_count": 3,
   "id": "7e26d15d",
   "metadata": {},
   "outputs": [
    {
     "data": {
      "text/plain": [
       "(7, 7)"
      ]
     },
     "execution_count": 3,
     "metadata": {},
     "output_type": "execute_result"
    }
   ],
   "source": [
    "obj=student('Hrithik Patel',21)\n",
    "\n",
    "obj.standard,student.standard\n",
    "\n",
    "\n",
    "In simple terms class object is same for every methods inside the class while \n",
    "an instance object may differ during the intialization of object \n",
    "\n",
    "class object can be called even just using the class name which is not possible with object instance"
   ]
  },
  {
   "cell_type": "markdown",
   "id": "c872734f",
   "metadata": {},
   "source": [
    "# Q4. What makes the first argument in a class’s method function special?"
   ]
  },
  {
   "cell_type": "code",
   "execution_count": null,
   "id": "0b2a9a4b",
   "metadata": {},
   "outputs": [],
   "source": [
    "The first argument of every class method, including __init__ is always a reference to the current instance of the class.\n",
    "By convention, this argument is always named self. In the init method, self refers to the newly created object,\n",
    "in other class methods it refers to the instance whose method was called"
   ]
  },
  {
   "cell_type": "markdown",
   "id": "96575831",
   "metadata": {},
   "source": [
    "# Q5. What is the purpose of the __init__ method?"
   ]
  },
  {
   "cell_type": "code",
   "execution_count": 10,
   "id": "f1cf97b7",
   "metadata": {},
   "outputs": [],
   "source": [
    "The __init__ method which is basically a constructor is used to assign values to the class \n",
    "\n",
    "example:\n",
    "\n",
    "class student:\n",
    "    standard=7\n",
    "    def __init__(self,name,roll):\n",
    "        self.name=name\n",
    "        self.rollno=roll\n",
    "        self.div='B'\n",
    "        \n",
    "    def details(self):\n",
    "        return 'Student Name is {}, he is in {}th std division {} and Roll No: {}'.format(self.name,self.standard,self.div,self.rollno)\n",
    "    "
   ]
  },
  {
   "cell_type": "code",
   "execution_count": 11,
   "id": "4d04a756",
   "metadata": {},
   "outputs": [
    {
     "data": {
      "text/plain": [
       "'Student Name is Hrithik Patel, he is in 7th std division B and Roll No: 21'"
      ]
     },
     "execution_count": 11,
     "metadata": {},
     "output_type": "execute_result"
    }
   ],
   "source": [
    "obj=student('Hrithik Patel',21)\n",
    "obj.details()"
   ]
  },
  {
   "cell_type": "markdown",
   "id": "290a74c1",
   "metadata": {},
   "source": [
    "# Q6. What is the process for creating a class instance?"
   ]
  },
  {
   "cell_type": "code",
   "execution_count": null,
   "id": "5b74dbf1",
   "metadata": {},
   "outputs": [],
   "source": [
    "First we have to create a class using class name\n",
    "\n",
    "class test:\n",
    "    pass\n",
    "\n",
    "next we have to create an instance using name of that class\n",
    "\n",
    "obj=test()\n",
    "\n",
    "This is how we create an instane of  a particular class\n",
    "\n"
   ]
  },
  {
   "cell_type": "markdown",
   "id": "1f15ef61",
   "metadata": {},
   "source": [
    "# Q7. What is the process for creating a class?"
   ]
  },
  {
   "cell_type": "code",
   "execution_count": null,
   "id": "587007d6",
   "metadata": {},
   "outputs": [],
   "source": [
    "We can create a class using class keyword\n",
    "\n",
    "class test1:\n",
    "    \n",
    "    def __init__(self,a):\n",
    "        self.a=a\n",
    "\n",
    "inside a class we can define a contructor which will assign a value to the class\n",
    "\n",
    "and we can also create multiple methods\n",
    "\n",
    "\n",
    "    "
   ]
  },
  {
   "cell_type": "markdown",
   "id": "e85b6307",
   "metadata": {},
   "source": [
    "# Q8. How would you define the superclasses of a class?"
   ]
  },
  {
   "cell_type": "code",
   "execution_count": null,
   "id": "14c7151d",
   "metadata": {},
   "outputs": [],
   "source": [
    "The class from which a class inherits is called the parent or superclass.\n",
    "A class which inherits from a superclass is called a subclass, \n",
    "also called their class or child class. Superclasses are sometimes called ancestors as well."
   ]
  },
  {
   "cell_type": "code",
   "execution_count": 4,
   "id": "e153fb65",
   "metadata": {},
   "outputs": [],
   "source": [
    "class rectangle:\n",
    "\n",
    "    def __init__(self, length, breadth):\n",
    "        self.length = length\n",
    "        self.breadth = breadth\n",
    "\n",
    "    def area_of_rec(self):\n",
    "        return (2 * self.length) * (2 * self.breadth)\n",
    "\n",
    "\n",
    "class square(rectangle):\n",
    "    def __init__(self,length,breadth):\n",
    "        # rectangle.__init__(self,*args)\n",
    "        super().__init__(length,breadth)\n",
    "\n",
    "    def area_of_square(self):\n",
    "        return 4 * self.length\n",
    "\n",
    "\n",
    "class cube(rectangle):\n",
    "    def __init__(self,length,breadth,height):\n",
    "        self.height=height\n",
    "        super().__init__(length,breadth)\n",
    "    def area_of_cube(self):\n",
    "        return self.breadth * self.height * self.length\n",
    "\n",
    "\n",
    "\n",
    "obj=square(3,4)\n",
    "obj1=cube(2,3,4)\n",
    "\n",
    "print(obj1.area_of_cube())\n",
    "\n",
    "print(obj.area_of_square())\n",
    "\n",
    "\n"
   ]
  },
  {
   "cell_type": "code",
   "execution_count": null,
   "id": "3c47a8c3",
   "metadata": {},
   "outputs": [],
   "source": []
  },
  {
   "cell_type": "code",
   "execution_count": null,
   "id": "ce95afb4",
   "metadata": {},
   "outputs": [],
   "source": []
  },
  {
   "cell_type": "code",
   "execution_count": null,
   "id": "4ee493f0",
   "metadata": {},
   "outputs": [],
   "source": []
  }
 ],
 "metadata": {
  "kernelspec": {
   "display_name": "Python 3",
   "language": "python",
   "name": "python3"
  },
  "language_info": {
   "codemirror_mode": {
    "name": "ipython",
    "version": 3
   },
   "file_extension": ".py",
   "mimetype": "text/x-python",
   "name": "python",
   "nbconvert_exporter": "python",
   "pygments_lexer": "ipython3",
   "version": "3.8.8"
  }
 },
 "nbformat": 4,
 "nbformat_minor": 5
}
