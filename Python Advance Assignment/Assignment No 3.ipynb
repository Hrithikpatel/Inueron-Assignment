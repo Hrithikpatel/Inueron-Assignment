{
 "cells": [
  {
   "cell_type": "markdown",
   "id": "c50cb1d6",
   "metadata": {},
   "source": [
    "# 1. What is the concept of an abstract superclass?"
   ]
  },
  {
   "cell_type": "code",
   "execution_count": null,
   "id": "2547fcfb",
   "metadata": {},
   "outputs": [],
   "source": [
    "An abstract class is basically a class with one or more abstract methods .An abstract methods \n",
    "is declared with no implementation and cannot be initialized and called with subclass\n",
    "\n",
    "In python we have to import abc module to achieve abstract class\n"
   ]
  },
  {
   "cell_type": "code",
   "execution_count": 4,
   "id": "5aa11157",
   "metadata": {},
   "outputs": [],
   "source": [
    "from abc import ABC,abstractmethod\n",
    "class Computer(ABC):\n",
    "    @abstractmethod\n",
    "    def process(self):\n",
    "        pass\n",
    "    \n",
    "class Laptop(Computer):\n",
    "    \n",
    "    def process(self):\n",
    "        print('Running')"
   ]
  },
  {
   "cell_type": "code",
   "execution_count": 7,
   "id": "652919d0",
   "metadata": {},
   "outputs": [
    {
     "name": "stdout",
     "output_type": "stream",
     "text": [
      "Running\n"
     ]
    }
   ],
   "source": [
    "obj=Laptop()\n",
    "obj.process()"
   ]
  },
  {
   "cell_type": "markdown",
   "id": "8161dfcc",
   "metadata": {},
   "source": [
    "# 2. What happens when a class statement&#39;s top level contains a basic assignment statement?"
   ]
  },
  {
   "cell_type": "code",
   "execution_count": 44,
   "id": "d86d4faf",
   "metadata": {},
   "outputs": [
    {
     "name": "stdout",
     "output_type": "stream",
     "text": [
      "Remaining amount : 80 \n",
      "Amount withdrawn : 20 \n",
      "Prevoius amount : 100\n"
     ]
    }
   ],
   "source": [
    "#when class statement top level contains a basic assignment statement is known as class attributes\n",
    "\n",
    "class Bank:\n",
    "    amount=100\n",
    "    \n",
    "    def withdraw(self,rs):\n",
    "        self.rs=rs\n",
    "        remain=self.amount-self.rs\n",
    "        self.amount=remain\n",
    "        return remain\n",
    "    \n",
    "obj=Bank()\n",
    "print('Remaining amount : {} \\nAmount withdrawn : {} \\nPrevoius amount : {}'.format(obj.withdraw(20),obj.rs,Bank.amount))\n",
    "\n",
    " \n",
    "    \n",
    "        "
   ]
  },
  {
   "cell_type": "markdown",
   "id": "72d3959c",
   "metadata": {},
   "source": [
    "# 3. Why does a class need to manually call a superclass&#39;s __init__ method?"
   ]
  },
  {
   "cell_type": "code",
   "execution_count": null,
   "id": "1e30f624",
   "metadata": {},
   "outputs": [],
   "source": [
    "By doing this we can access those method of superclass which was overridden by the child class\n",
    "\n",
    "class Female_Grandparent:\n",
    "    def __init__(self):\n",
    "        self.grandma_name = 'Grandma'\n",
    "\n",
    "class Male_Grandparent:\n",
    "    def __init__(self):\n",
    "        self.grandpa_name = 'Grandpa'\n",
    "\n",
    "class Parent(Female_Grandparent, Male_Grandparent):\n",
    "    def __init__(self):\n",
    "        Female_Grandparent.__init__(self)\n",
    "        Male_Grandparent.__init__(self)\n",
    "\n",
    "        self.parent_name = 'Parent Class'\n",
    "\n",
    "class Child(Parent):\n",
    "    def __init__(self):\n",
    "        Parent.__init__(self)\n",
    "        "
   ]
  },
  {
   "cell_type": "markdown",
   "id": "0b531271",
   "metadata": {},
   "source": [
    "# 4. How can you augment, instead of completely replacing, an inherited method?"
   ]
  },
  {
   "cell_type": "code",
   "execution_count": null,
   "id": "3ecea020",
   "metadata": {},
   "outputs": [],
   "source": [
    "The way to do that in Python is by calling to the original version directly, with augmented arguments."
   ]
  },
  {
   "cell_type": "markdown",
   "id": "e6b55269",
   "metadata": {},
   "source": [
    "# 5. How is the local scope of a class different from that of a function?"
   ]
  },
  {
   "cell_type": "code",
   "execution_count": null,
   "id": "a26c70d0",
   "metadata": {},
   "outputs": [],
   "source": [
    "In class, if the variable is declared without self then it is accessible within that function only, \n",
    "kinda local variable. However if it declared using self like self.variable_name = 'somevalue'\n",
    "then it is accessible via any object but not via the class name.\n",
    "Whereas, if a variable is declared within a function then it is a local variable and is accessible to that function only"
   ]
  }
 ],
 "metadata": {
  "kernelspec": {
   "display_name": "Python 3",
   "language": "python",
   "name": "python3"
  },
  "language_info": {
   "codemirror_mode": {
    "name": "ipython",
    "version": 3
   },
   "file_extension": ".py",
   "mimetype": "text/x-python",
   "name": "python",
   "nbconvert_exporter": "python",
   "pygments_lexer": "ipython3",
   "version": "3.8.8"
  }
 },
 "nbformat": 4,
 "nbformat_minor": 5
}
