{
 "cells": [
  {
   "cell_type": "markdown",
   "id": "067224e9",
   "metadata": {},
   "source": [
    "# Q1. What is the relationship between classes and modules?"
   ]
  },
  {
   "cell_type": "code",
   "execution_count": null,
   "id": "0afb8634",
   "metadata": {},
   "outputs": [],
   "source": [
    "Modules are the files with .py extension files which can contains programs which are enclosed \n",
    "within the function or variables so we can reuse them \n",
    "\n",
    "Classes in python act as a blueprint based on which objects are created. \n",
    "Objects are the very basis for object-oriented programming. The objects are the real-world entities,\n",
    "and class acts as a template that defines those objects."
   ]
  },
  {
   "cell_type": "markdown",
   "id": "7a44a7fb",
   "metadata": {},
   "source": [
    "# Q2. How do you make instances and classes?"
   ]
  },
  {
   "cell_type": "code",
   "execution_count": 1,
   "id": "32129bda",
   "metadata": {},
   "outputs": [],
   "source": [
    "An instances is basically an object that belong to a class\n",
    "First we have to define a class using class method\n",
    "\n",
    "\n",
    "class Greet:\n",
    "    def __init__(self,name):\n",
    "        self.name=name\n",
    "        \n",
    "    def greeting(self):\n",
    "        return 'Hi Good Morning {}'.format(self.name)\n",
    "    \n",
    "Then we have to initialize an object for that class \n",
    "\n",
    "f=Greet('Hrithik')"
   ]
  },
  {
   "cell_type": "code",
   "execution_count": 2,
   "id": "02a5d312",
   "metadata": {},
   "outputs": [
    {
     "data": {
      "text/plain": [
       "'Hi Good Morning Hrithik'"
      ]
     },
     "execution_count": 2,
     "metadata": {},
     "output_type": "execute_result"
    }
   ],
   "source": [
    "f.greeting()"
   ]
  },
  {
   "cell_type": "markdown",
   "id": "409c5fb3",
   "metadata": {},
   "source": [
    "# Q3. Where and how should be class attributes created?"
   ]
  },
  {
   "cell_type": "code",
   "execution_count": 10,
   "id": "b3e296cf",
   "metadata": {},
   "outputs": [],
   "source": [
    "Class Attributes are basically a class variable  which is created within the class outside of the class methods\n",
    "\n",
    "class Myclass:\n",
    "    attr='Ten'\n",
    "    attr1=10\n",
    "    \n",
    "    def func1(self):\n",
    "        return Myclass.attr\n",
    "    \n",
    "    def func2(self):\n",
    "        return Myclass.attr1\n",
    "    \n",
    "    \n",
    "    def func3(self,name):\n",
    "        self.name=name\n",
    "        \n",
    "        return self.name\n",
    "        \n",
    "        \n",
    "Here attr and attr1 are class attributes"
   ]
  },
  {
   "cell_type": "code",
   "execution_count": 12,
   "id": "7403a54b",
   "metadata": {},
   "outputs": [
    {
     "data": {
      "text/plain": [
       "('Ten', 10)"
      ]
     },
     "execution_count": 12,
     "metadata": {},
     "output_type": "execute_result"
    }
   ],
   "source": [
    "obj=Myclass()\n",
    "\n",
    "obj.func1(),obj.func2()\n"
   ]
  },
  {
   "cell_type": "markdown",
   "id": "6004a0de",
   "metadata": {},
   "source": [
    "# Q4. Where and how are instance attributes created?"
   ]
  },
  {
   "cell_type": "code",
   "execution_count": 14,
   "id": "9f8c99c7",
   "metadata": {},
   "outputs": [
    {
     "data": {
      "text/plain": [
       "'Hrithik'"
      ]
     },
     "execution_count": 14,
     "metadata": {},
     "output_type": "execute_result"
    }
   ],
   "source": [
    "#Instances Attributes are also known as object variables which are created inside class methods\n",
    "\n",
    "class Myclass:\n",
    "    attr='Ten'\n",
    "    attr1=10\n",
    "    \n",
    "    def func1(self):\n",
    "        return Myclass.attr\n",
    "    \n",
    "    def func2(self):\n",
    "        return Myclass.attr1\n",
    "    \n",
    "    \n",
    "    def func3(self,name): #instances variable\n",
    "        self.name=name\n",
    "        \n",
    "        return self.name\n",
    "    \n",
    "obj1=Myclass()\n",
    "\n",
    "obj1.func3('Hrithik')\n",
    "\n",
    "\n",
    "here name is an instances variable of method func3"
   ]
  },
  {
   "cell_type": "markdown",
   "id": "05719a7b",
   "metadata": {},
   "source": [
    "# Q5. What does the term &quot;self&quot; in a Python class mean?"
   ]
  },
  {
   "cell_type": "code",
   "execution_count": 17,
   "id": "36ee8c69",
   "metadata": {},
   "outputs": [
    {
     "data": {
      "text/plain": [
       "'Student Name is hrithik and Roll No is 21'"
      ]
     },
     "execution_count": 17,
     "metadata": {},
     "output_type": "execute_result"
    }
   ],
   "source": [
    "The term self is basically a pointer or references to the attributes of a class methods \n",
    "\n",
    "\n",
    "class Student:\n",
    "    def __init__(self,name,roll,div):\n",
    "        self.name=name\n",
    "        self.roll=roll\n",
    "        self.div=div\n",
    "        \n",
    "    def student_details(self):\n",
    "        return 'Student Name is {} and Roll No is {}'.format(self.name,self.roll)\n",
    "    \n",
    "    \n",
    "Obj=Student('hrithik',21,'B')\n",
    "Obj.student_details()\n",
    "\n",
    "Here self keyword is used as references to the instances attributes of Student Class"
   ]
  },
  {
   "cell_type": "markdown",
   "id": "eb72d62c",
   "metadata": {},
   "source": [
    "# Q6. How does a Python class handle operator overloading?"
   ]
  },
  {
   "cell_type": "code",
   "execution_count": null,
   "id": "86a11c23",
   "metadata": {},
   "outputs": [],
   "source": [
    "Operator overloading menas defining more than one function to an particular operator\n",
    "To perform operator overloading python provides some special function that is automatically invoked when \n",
    "it is associated with that particular operator.For example, when we use + operator, the magic method __add__ is automatically \n",
    "invoked in which the operation for + operator is defined\n"
   ]
  },
  {
   "cell_type": "code",
   "execution_count": 36,
   "id": "75acdb97",
   "metadata": {},
   "outputs": [],
   "source": [
    "class overloading:\n",
    "    \n",
    "    def __init__(self,a):\n",
    "        self.a=a\n",
    "        \n",
    "    def __add__(self,b):\n",
    "        return self.a+b.a\n",
    "    \n",
    "obj=overloading(1)\n",
    "obj1=overloading(2)"
   ]
  },
  {
   "cell_type": "code",
   "execution_count": 37,
   "id": "a16179bb",
   "metadata": {},
   "outputs": [
    {
     "data": {
      "text/plain": [
       "3"
      ]
     },
     "execution_count": 37,
     "metadata": {},
     "output_type": "execute_result"
    }
   ],
   "source": [
    "obj+obj1"
   ]
  },
  {
   "cell_type": "markdown",
   "id": "e438afe2",
   "metadata": {},
   "source": [
    "# Q7. When do you consider allowing operator overloading of your classes?"
   ]
  },
  {
   "cell_type": "code",
   "execution_count": null,
   "id": "9a182938",
   "metadata": {},
   "outputs": [],
   "source": [
    "Generally we need to use operator overloading concept when we want our operator to show multiple behaviour \n",
    "we cant define our own operator but we have some inbuilt function to add user defined object"
   ]
  },
  {
   "cell_type": "code",
   "execution_count": 69,
   "id": "7cf2ae11",
   "metadata": {},
   "outputs": [
    {
     "data": {
      "text/plain": [
       "(3, 'HrithikPatel')"
      ]
     },
     "execution_count": 69,
     "metadata": {},
     "output_type": "execute_result"
    }
   ],
   "source": [
    "class overloading:\n",
    "    \n",
    "    def __init__(self,a):\n",
    "        self.a=a\n",
    "        \n",
    "    def __add__(self,b):\n",
    "        return self.a+b.a\n",
    "    \n",
    "obj=overloading(1)\n",
    "obj1=overloading(2)\n",
    "\n",
    "a=overloading('Hrithik')\n",
    "b=overloading('Patel')\n",
    "\n",
    "obj+obj1,a+b\n",
    "\n",
    "Here i have to achieve two operation with the same operator like adding a string and int values\n",
    "so we can consider using overloading concept"
   ]
  },
  {
   "cell_type": "markdown",
   "id": "f2301609",
   "metadata": {},
   "source": [
    "# Q8. What is the most popular form of operator overloading?"
   ]
  },
  {
   "cell_type": "code",
   "execution_count": 66,
   "id": "02d8decf",
   "metadata": {},
   "outputs": [
    {
     "data": {
      "text/plain": [
       "(3, 'HrithikPatel')"
      ]
     },
     "execution_count": 66,
     "metadata": {},
     "output_type": "execute_result"
    }
   ],
   "source": [
    "The most popular form of operator overloading in pyhton is + \n",
    "operator which can be used to achieve multiple operation with just one opertor \n",
    "\n",
    "1+2,'Hrithik'+'Patel'\n",
    "\n",
    "\n",
    "and also * does the same"
   ]
  },
  {
   "cell_type": "markdown",
   "id": "0086529c",
   "metadata": {},
   "source": [
    "# Q9. What are the two most important concepts to grasp in order to comprehend Python OOP code?"
   ]
  },
  {
   "cell_type": "code",
   "execution_count": null,
   "id": "586f725a",
   "metadata": {},
   "outputs": [],
   "source": [
    "Two key concepts of the oop is inheritance and polymorphism\n",
    "\n",
    "\n",
    "Inheritance : with the help of inheritance we can have a child class which inherits features of its \n",
    "parent class or base class we can have different types of inheritance \n",
    "Single level inheritance multi-level inheritance and multiple inheritance apart from just inheriting \n",
    "features of parent class child class can have its own attributes an features too\n",
    "\n",
    "Polymorphism: Polymorphism is generally a same thing what's its name implies \n",
    "we can have a same class methods for parent class as well as multilple child class with all having \n",
    "different behaviour towards that particular methods is generally known as Polymorphism"
   ]
  },
  {
   "cell_type": "code",
   "execution_count": 8,
   "id": "230f0589",
   "metadata": {},
   "outputs": [
    {
     "data": {
      "text/plain": [
       "('Salary of Director is 60000.0',\n",
       " 'Salary of Manager is 55000.00000000001',\n",
       " 'Salary of an Employee is 52500.0')"
      ]
     },
     "execution_count": 8,
     "metadata": {},
     "output_type": "execute_result"
    }
   ],
   "source": [
    "class Director:\n",
    "    \n",
    "    def __init__(self,id,salary):\n",
    "        self.id=id\n",
    "        self.salary=salary\n",
    "        \n",
    "    def increment(self):\n",
    "          return 'Salary of Director is {}'.format(self.salary*1.20)\n",
    "        \n",
    "class Manager(Director):\n",
    "    \n",
    "    def __init__(self,id,salary):\n",
    "        super().__init__(id,salary)\n",
    "        \n",
    "    \n",
    "    def increment(self):\n",
    "         return 'Salary of Manager is {}'.format(self.salary*1.10)\n",
    "        \n",
    "\n",
    "\n",
    "class Employee(Director):\n",
    "    \n",
    "    def __init__(self,id,salary):\n",
    "        super().__init__(id,salary)\n",
    "        \n",
    "    \n",
    "    def increment(self):\n",
    "         return 'Salary of an Employee is {}'.format(self.salary*1.05)\n",
    " \n",
    "        \n",
    "\n",
    "obj,obj1,obj2=Director(101,50000),Manager(102,50000),Employee(102,50000)\n",
    "        \n",
    "\n",
    "obj.increment(),obj1.increment(),obj2.increment()\n",
    "        \n",
    "\n",
    "    "
   ]
  },
  {
   "cell_type": "code",
   "execution_count": null,
   "id": "a1c9de94",
   "metadata": {},
   "outputs": [],
   "source": []
  }
 ],
 "metadata": {
  "kernelspec": {
   "display_name": "Python 3",
   "language": "python",
   "name": "python3"
  },
  "language_info": {
   "codemirror_mode": {
    "name": "ipython",
    "version": 3
   },
   "file_extension": ".py",
   "mimetype": "text/x-python",
   "name": "python",
   "nbconvert_exporter": "python",
   "pygments_lexer": "ipython3",
   "version": "3.8.8"
  }
 },
 "nbformat": 4,
 "nbformat_minor": 5
}
