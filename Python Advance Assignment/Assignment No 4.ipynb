{
 "cells": [
  {
   "cell_type": "markdown",
   "id": "78ad66a6",
   "metadata": {},
   "source": [
    "# Q1. Which two operator overloading methods can you use in your classes to support iteration?"
   ]
  },
  {
   "cell_type": "code",
   "execution_count": 23,
   "id": "9fd0359e",
   "metadata": {},
   "outputs": [
    {
     "name": "stdout",
     "output_type": "stream",
     "text": [
      "1 2 3 4 5 6 7 8 9 10 "
     ]
    }
   ],
   "source": [
    "#With the help of __iter__ and __next__ function we can make our class to support iteration\n",
    "\n",
    "\n",
    "class Counter:\n",
    "    \n",
    "    def __init__(self,start,end):\n",
    "        self.start=start\n",
    "        self.end=end\n",
    "    \n",
    "    def __iter__(self):\n",
    "        return self\n",
    "    \n",
    "    def __next__(self):\n",
    "        if self.start>self.end:\n",
    "            raise StopIteration\n",
    "        else:\n",
    "            self.start+=1\n",
    "            return self.start-1\n",
    "for i in Counter(1,10):\n",
    "    print(i,end=' ')"
   ]
  },
  {
   "cell_type": "markdown",
   "id": "1e611915",
   "metadata": {},
   "source": [
    "# Q2. In what contexts do the two operator overloading methods manage printing?"
   ]
  },
  {
   "cell_type": "code",
   "execution_count": null,
   "id": "000ee121",
   "metadata": {},
   "outputs": [],
   "source": [
    "Depending on the input parameters passed result is printed.\n",
    "\n",
    "Example: If both inputs are strings, the function will print string output."
   ]
  },
  {
   "cell_type": "markdown",
   "id": "1415779b",
   "metadata": {},
   "source": [
    "# Q3. In a class, how do you intercept slice operations?"
   ]
  },
  {
   "cell_type": "code",
   "execution_count": null,
   "id": "e90c41c5",
   "metadata": {},
   "outputs": [],
   "source": [
    "To do so we have to create our own data scructure and with the help of __getitem__ \n",
    "method we can achieve slice operation. The __getitem__ is generally called everytime we \n",
    "try to get item from our structure "
   ]
  },
  {
   "cell_type": "code",
   "execution_count": 44,
   "id": "40cfd0f8",
   "metadata": {},
   "outputs": [],
   "source": [
    "from collections import Sequence\n",
    "class Mystructure(Sequence):\n",
    "    def __init__(self):\n",
    "        self.data=[]\n",
    "    \n",
    "    def __len__(self):\n",
    "        return len(self.data)\n",
    "        \n",
    "        \n",
    "    def append(self,item):\n",
    "        self.data.append(item)\n",
    "    \n",
    "    def remove(self,item):\n",
    "        self.data.remove(item)\n",
    "    \n",
    "    def __getitem__(self,sliced):\n",
    "        return self.data[sliced]"
   ]
  },
  {
   "cell_type": "code",
   "execution_count": 45,
   "id": "01a7ff47",
   "metadata": {},
   "outputs": [
    {
     "data": {
      "text/plain": [
       "[1, 2]"
      ]
     },
     "execution_count": 45,
     "metadata": {},
     "output_type": "execute_result"
    }
   ],
   "source": [
    "var=Mystructure()\n",
    "var.append(1)\n",
    "var.append(2)\n",
    "var.append(3)\n",
    "var[0:2]"
   ]
  },
  {
   "cell_type": "markdown",
   "id": "7c1fbefb",
   "metadata": {},
   "source": [
    "# Q4. In a class, how do you capture in-place addition?"
   ]
  },
  {
   "cell_type": "code",
   "execution_count": null,
   "id": "d120a090",
   "metadata": {},
   "outputs": [],
   "source": [
    "Python in its definition provides methods to perform inplace operations, i.e doing assignment and computation in a single statement using “operator” module. For example,\n",
    "\n",
    "x += y is equivalent to x = operator.iadd(x, y)\n",
    "\n",
    "iadd() function is used to assign and add the current value. This operation does “a+=b” operation. Assigning is not performed in case of immutable containers, such as strings, numbers and tuples.\n",
    "\n",
    "import operator\n",
    "\n",
    "x = 2\n",
    "y = 3\n",
    "x = operator.iadd(x,y)\n",
    "print(x) # 5"
   ]
  },
  {
   "cell_type": "markdown",
   "id": "bb65a774",
   "metadata": {},
   "source": [
    "# Q5. When is it appropriate to use operator overloading?"
   ]
  },
  {
   "cell_type": "code",
   "execution_count": null,
   "id": "8dd055ee",
   "metadata": {},
   "outputs": [],
   "source": [
    "When we have two objects which are a physical representation of a class (user-defined data type) and \n",
    "we have to add two objects with binary ‘+’ operator it throws an error, because compiler don’t know how to add two objects.\n",
    "So we define a method for an operator and that process is called operator overloading."
   ]
  }
 ],
 "metadata": {
  "kernelspec": {
   "display_name": "Python 3",
   "language": "python",
   "name": "python3"
  },
  "language_info": {
   "codemirror_mode": {
    "name": "ipython",
    "version": 3
   },
   "file_extension": ".py",
   "mimetype": "text/x-python",
   "name": "python",
   "nbconvert_exporter": "python",
   "pygments_lexer": "ipython3",
   "version": "3.8.8"
  }
 },
 "nbformat": 4,
 "nbformat_minor": 5
}
